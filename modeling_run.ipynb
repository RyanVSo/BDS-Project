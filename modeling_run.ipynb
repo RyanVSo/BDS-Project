{
 "cells": [
  {
   "cell_type": "code",
   "execution_count": 1,
   "metadata": {
    "colab": {
     "base_uri": "https://localhost:8080/"
    },
    "executionInfo": {
     "elapsed": 47717,
     "status": "ok",
     "timestamp": 1713820127398,
     "user": {
      "displayName": "Ryan So",
      "userId": "03391353705190238264"
     },
     "user_tz": 240
    },
    "id": "MZIOd7Qcm5gy",
    "outputId": "ac34ca01-f536-491f-8a01-d6df52535b17"
   },
   "outputs": [
    {
     "name": "stdout",
     "output_type": "stream",
     "text": [
      "Requirement already satisfied: xgboost in c:\\users\\ryans\\anaconda3\\lib\\site-packages (2.0.3)\n",
      "Requirement already satisfied: numpy in c:\\users\\ryans\\anaconda3\\lib\\site-packages (from xgboost) (1.26.4)\n",
      "Requirement already satisfied: scipy in c:\\users\\ryans\\anaconda3\\lib\\site-packages (from xgboost) (1.11.4)\n"
     ]
    }
   ],
   "source": [
    "# Importing standard libraries\n",
    "import joblib\n",
    "import matplotlib.pyplot as plt\n",
    "import nltk\n",
    "import numpy as np\n",
    "import pandas as pd\n",
    "import regex as re\n",
    "import seaborn as sns\n",
    "import warnings\n",
    "from tqdm import tqdm\n",
    "\n",
    "# Importing sklearn libraries\n",
    "from sklearn.calibration import CalibratedClassifierCV\n",
    "from sklearn.ensemble import RandomForestClassifier\n",
    "from sklearn.feature_extraction.text import CountVectorizer, TfidfVectorizer\n",
    "from sklearn.linear_model import LogisticRegression\n",
    "from sklearn.metrics import accuracy_score, confusion_matrix, f1_score, log_loss, roc_auc_score, roc_curve\n",
    "from sklearn.model_selection import RandomizedSearchCV, train_test_split\n",
    "from sklearn.neighbors import KNeighborsClassifier\n",
    "from sklearn.preprocessing import LabelEncoder, MinMaxScaler, Normalizer, StandardScaler\n",
    "from sklearn.svm import LinearSVC, SVC\n",
    "\n",
    "# Importing nltk libraries\n",
    "from nltk.corpus import stopwords\n",
    "from nltk.stem.snowball import SnowballStemmer\n",
    "\n",
    "# Importing scipy library\n",
    "from scipy.sparse import hstack\n",
    "\n",
    "# Importing xgboost library\n",
    "from xgboost import XGBClassifier\n",
    "\n",
    "# Suppressing warnings\n",
    "warnings.filterwarnings('ignore')\n",
    "\n",
    "# Installing xgboost\n",
    "!pip install xgboost\n",
    "\n",
    "# Loading the data\n",
    "path = '../BDS_project/final_new_data_processed.csv'\n",
    "data = pd.read_csv(path)\n",
    "\n",
    "# Preparing the data\n",
    "X = data.drop(['review','rating','date','review_sentiment'],axis=1)\n",
    "y = data['review_sentiment'].values\n",
    "\n",
    "# Splitting the data\n",
    "X_train, X_test, y_train, y_test = train_test_split(X, y, stratify=y, test_size=0.30, random_state=42)\n",
    "X_train, X_cv, y_train, y_cv = train_test_split(X_train, y_train, stratify=y_train, test_size=0.30, random_state=42)\n"
   ]
  },
  {
   "cell_type": "code",
   "execution_count": 2,
   "metadata": {},
   "outputs": [
    {
     "data": {
      "text/html": [
       "<div>\n",
       "<style scoped>\n",
       "    .dataframe tbody tr th:only-of-type {\n",
       "        vertical-align: middle;\n",
       "    }\n",
       "\n",
       "    .dataframe tbody tr th {\n",
       "        vertical-align: top;\n",
       "    }\n",
       "\n",
       "    .dataframe thead th {\n",
       "        text-align: right;\n",
       "    }\n",
       "</style>\n",
       "<table border=\"1\" class=\"dataframe\">\n",
       "  <thead>\n",
       "    <tr style=\"text-align: right;\">\n",
       "      <th></th>\n",
       "      <th>drugName</th>\n",
       "      <th>condition</th>\n",
       "      <th>review</th>\n",
       "      <th>rating</th>\n",
       "      <th>date</th>\n",
       "      <th>usefulCount</th>\n",
       "      <th>review_sentiment</th>\n",
       "      <th>cleaned_review</th>\n",
       "      <th>sentiment_score</th>\n",
       "      <th>sentiment_score_clean</th>\n",
       "      <th>...</th>\n",
       "      <th>10</th>\n",
       "      <th>11</th>\n",
       "      <th>12</th>\n",
       "      <th>13</th>\n",
       "      <th>14</th>\n",
       "      <th>15</th>\n",
       "      <th>16</th>\n",
       "      <th>17</th>\n",
       "      <th>18</th>\n",
       "      <th>19</th>\n",
       "    </tr>\n",
       "  </thead>\n",
       "  <tbody>\n",
       "    <tr>\n",
       "      <th>0</th>\n",
       "      <td>valsartan</td>\n",
       "      <td>left ventricular dysfunction</td>\n",
       "      <td>\"It has no side effect, I take it in combinati...</td>\n",
       "      <td>9.0</td>\n",
       "      <td>2012-05-20</td>\n",
       "      <td>27</td>\n",
       "      <td>1</td>\n",
       "      <td>no side effect take combin bystol mg fish oil</td>\n",
       "      <td>-0.2960</td>\n",
       "      <td>-0.2960</td>\n",
       "      <td>...</td>\n",
       "      <td>0.362931</td>\n",
       "      <td>0.014787</td>\n",
       "      <td>0.007693</td>\n",
       "      <td>0.009125</td>\n",
       "      <td>0.103094</td>\n",
       "      <td>0.010545</td>\n",
       "      <td>0.064428</td>\n",
       "      <td>0.011921</td>\n",
       "      <td>0.014735</td>\n",
       "      <td>0.006619</td>\n",
       "    </tr>\n",
       "    <tr>\n",
       "      <th>1</th>\n",
       "      <td>guanfacine</td>\n",
       "      <td>adhd</td>\n",
       "      <td>\"My son is halfway through his fourth week of ...</td>\n",
       "      <td>8.0</td>\n",
       "      <td>2010-04-27</td>\n",
       "      <td>192</td>\n",
       "      <td>1</td>\n",
       "      <td>son halfway fourth week intuniv becam concern ...</td>\n",
       "      <td>0.8603</td>\n",
       "      <td>0.6929</td>\n",
       "      <td>...</td>\n",
       "      <td>0.557999</td>\n",
       "      <td>0.006869</td>\n",
       "      <td>0.003574</td>\n",
       "      <td>0.004239</td>\n",
       "      <td>0.008950</td>\n",
       "      <td>0.004899</td>\n",
       "      <td>0.125459</td>\n",
       "      <td>0.005538</td>\n",
       "      <td>0.006845</td>\n",
       "      <td>0.003075</td>\n",
       "    </tr>\n",
       "    <tr>\n",
       "      <th>2</th>\n",
       "      <td>lybrel</td>\n",
       "      <td>birth control</td>\n",
       "      <td>\"I used to take another oral contraceptive, wh...</td>\n",
       "      <td>5.0</td>\n",
       "      <td>2009-12-14</td>\n",
       "      <td>17</td>\n",
       "      <td>0</td>\n",
       "      <td>use take anoth oral contracept pill cycl happi...</td>\n",
       "      <td>0.7962</td>\n",
       "      <td>0.2732</td>\n",
       "      <td>...</td>\n",
       "      <td>0.455916</td>\n",
       "      <td>0.006802</td>\n",
       "      <td>0.003539</td>\n",
       "      <td>0.004205</td>\n",
       "      <td>0.008863</td>\n",
       "      <td>0.004851</td>\n",
       "      <td>0.048923</td>\n",
       "      <td>0.005484</td>\n",
       "      <td>0.006778</td>\n",
       "      <td>0.003045</td>\n",
       "    </tr>\n",
       "  </tbody>\n",
       "</table>\n",
       "<p>3 rows × 57 columns</p>\n",
       "</div>"
      ],
      "text/plain": [
       "     drugName                     condition  \\\n",
       "0   valsartan  left ventricular dysfunction   \n",
       "1  guanfacine                          adhd   \n",
       "2      lybrel                 birth control   \n",
       "\n",
       "                                              review  rating        date  \\\n",
       "0  \"It has no side effect, I take it in combinati...     9.0  2012-05-20   \n",
       "1  \"My son is halfway through his fourth week of ...     8.0  2010-04-27   \n",
       "2  \"I used to take another oral contraceptive, wh...     5.0  2009-12-14   \n",
       "\n",
       "   usefulCount  review_sentiment  \\\n",
       "0           27                 1   \n",
       "1          192                 1   \n",
       "2           17                 0   \n",
       "\n",
       "                                      cleaned_review  sentiment_score  \\\n",
       "0     no side effect take combin bystol mg fish oil           -0.2960   \n",
       "1  son halfway fourth week intuniv becam concern ...           0.8603   \n",
       "2  use take anoth oral contracept pill cycl happi...           0.7962   \n",
       "\n",
       "   sentiment_score_clean  ...        10        11        12        13  \\\n",
       "0                -0.2960  ...  0.362931  0.014787  0.007693  0.009125   \n",
       "1                 0.6929  ...  0.557999  0.006869  0.003574  0.004239   \n",
       "2                 0.2732  ...  0.455916  0.006802  0.003539  0.004205   \n",
       "\n",
       "         14        15        16        17        18        19  \n",
       "0  0.103094  0.010545  0.064428  0.011921  0.014735  0.006619  \n",
       "1  0.008950  0.004899  0.125459  0.005538  0.006845  0.003075  \n",
       "2  0.008863  0.004851  0.048923  0.005484  0.006778  0.003045  \n",
       "\n",
       "[3 rows x 57 columns]"
      ]
     },
     "execution_count": 2,
     "metadata": {},
     "output_type": "execute_result"
    }
   ],
   "source": [
    "data.head(3)"
   ]
  },
  {
   "cell_type": "code",
   "execution_count": 2,
   "metadata": {
    "executionInfo": {
     "elapsed": 9,
     "status": "ok",
     "timestamp": 1713820127399,
     "user": {
      "displayName": "Ryan So",
      "userId": "03391353705190238264"
     },
     "user_tz": 240
    },
    "id": "7d1cd65d"
   },
   "outputs": [],
   "source": [
    "columns = ['usefulCount','word_count','unique_word_count','char_length','count_punctuations','stopword_count',\n",
    "               'mean_word_len','subj_count','obj_count','CARDINAL','DATE','EVENT','FAC','GPE','LANGUAGE','LAW',\n",
    "            'LOC','MONEY','NORP','ORDINAL','ORG', 'PERCENT','PERSON', 'PRODUCT','QUANTITY','TIME','WORK_OF_ART',\n",
    "           '0','1','2','3','4','5','6','7','8','9','10','11','12','13','14','15','16','17','18','19']"
   ]
  },
  {
   "cell_type": "code",
   "execution_count": 4,
   "metadata": {
    "colab": {
     "base_uri": "https://localhost:8080/"
    },
    "executionInfo": {
     "elapsed": 485,
     "status": "ok",
     "timestamp": 1713820209103,
     "user": {
      "displayName": "Ryan So",
      "userId": "03391353705190238264"
     },
     "user_tz": 240
    },
    "id": "d43c32b9",
    "outputId": "1411ddaf-c2e1-436b-ba21-51282d5835e9"
   },
   "outputs": [
    {
     "name": "stdout",
     "output_type": "stream",
     "text": [
      "After vectorizations\n",
      "(103927, 47) (103927,)\n",
      "(63630, 47) (63630,)\n",
      "(44541, 47) (44541,)\n"
     ]
    }
   ],
   "source": [
    "normalizer = Normalizer()\n",
    "\n",
    "X_train_num_1 = normalizer.fit_transform(X_train[columns])\n",
    "X_test_num_1 = normalizer.fit_transform(X_test[columns])\n",
    "X_cv_num_1 = normalizer.fit_transform(X_cv[columns])\n",
    "\n",
    "X_train_sent_score = X_train[['sentiment_score','sentiment_score_clean']].values\n",
    "X_test_sent_score = X_test[['sentiment_score','sentiment_score_clean']].values\n",
    "X_cv_sent_score = X_cv[['sentiment_score','sentiment_score_clean']].values\n",
    "\n",
    "X_tr_1 = np.concatenate((X_train_num_1,X_train_sent_score),axis=1)\n",
    "X_te_1 = np.concatenate((X_test_num_1,X_test_sent_score),axis=1)\n",
    "X_cv_1 = np.concatenate((X_cv_num_1,X_cv_sent_score),axis=1)"
   ]
  },
  {
   "cell_type": "code",
   "execution_count": null,
   "metadata": {},
   "outputs": [],
   "source": [
    "normalizer = Normalizer()\n",
    "\n",
    "X_train_num_1 = normalizer.fit_transform(X_train[columns])\n",
    "X_test_num_1 = normalizer.fit_transform(X_test[columns])\n",
    "X_cv_num_1 = normalizer.fit_transform(X_cv[columns])\n"
   ]
  },
  {
   "cell_type": "code",
   "execution_count": 40,
   "metadata": {
    "colab": {
     "base_uri": "https://localhost:8080/"
    },
    "executionInfo": {
     "elapsed": 275,
     "status": "ok",
     "timestamp": 1713820213762,
     "user": {
      "displayName": "Ryan So",
      "userId": "03391353705190238264"
     },
     "user_tz": 240
    },
    "id": "513a70c8",
    "outputId": "c051a8f3-6eb2-495b-bfb2-bc72cf662fe0"
   },
   "outputs": [
    {
     "ename": "SyntaxError",
     "evalue": "invalid syntax (101951231.py, line 2)",
     "output_type": "error",
     "traceback": [
      "\u001b[1;36m  Cell \u001b[1;32mIn[40], line 2\u001b[1;36m\u001b[0m\n\u001b[1;33m    = X_train[['sentiment_score','sentiment_score_clean']].values\u001b[0m\n\u001b[1;37m    ^\u001b[0m\n\u001b[1;31mSyntaxError\u001b[0m\u001b[1;31m:\u001b[0m invalid syntax\n"
     ]
    }
   ],
   "source": [
    "X_train_sent_score = X_train[['sentiment_score','sentiment_score_clean']].values\n",
    "X_test_sent_score = X_test[['sentiment_score','sentiment_score_clean']].values\n",
    "X_cv_sent_score = X_cv[['sentiment_score','sentiment_score_clean']].values\n",
    "\n",
    "X_tr_1 = np.concatenate((X_train_num_1,X_train_sent_score),axis=1)\n",
    "X_te_1 = np.concatenate((X_test_num_1,X_test_sent_score),axis=1)\n",
    "X_cv_1 = np.concatenate((X_cv_num_1,X_cv_sent_score),axis=1)\n"
   ]
  },
  {
   "cell_type": "code",
   "execution_count": 6,
   "metadata": {
    "colab": {
     "base_uri": "https://localhost:8080/"
    },
    "executionInfo": {
     "elapsed": 379,
     "status": "ok",
     "timestamp": 1713820214316,
     "user": {
      "displayName": "Ryan So",
      "userId": "03391353705190238264"
     },
     "user_tz": 240
    },
    "id": "4493a9bd",
    "outputId": "e14ea422-bf64-4bcd-ab40-64abdd4edabb"
   },
   "outputs": [
    {
     "name": "stdout",
     "output_type": "stream",
     "text": [
      "Final Data matrix\n",
      "(103927, 49) (103927,)\n",
      "(63630, 49) (63630,)\n",
      "(44541, 49) (44541,)\n"
     ]
    }
   ],
   "source": [
    "#concatenating all encoded features for set 1\n",
    "\n",
    "from scipy.sparse import hstack\n",
    "X_tr_1 = np.concatenate((X_train_num_1,X_train_sent_score),axis=1)\n",
    "\n",
    "X_te_1 = np.concatenate((X_test_num_1,X_test_sent_score),axis=1)\n",
    "\n",
    "X_cv_1 = np.concatenate((X_cv_num_1,X_cv_sent_score),axis=1)"
   ]
  },
  {
   "cell_type": "markdown",
   "metadata": {
    "id": "1325f2c3"
   },
   "source": [
    "## Modelling"
   ]
  },
  {
   "cell_type": "code",
   "execution_count": 7,
   "metadata": {},
   "outputs": [
    {
     "name": "stdout",
     "output_type": "stream",
     "text": [
      "Requirement already satisfied: xgboost in c:\\users\\ryans\\anaconda3\\lib\\site-packages (2.0.3)\n",
      "Requirement already satisfied: numpy in c:\\users\\ryans\\anaconda3\\lib\\site-packages (from xgboost) (1.26.4)\n",
      "Requirement already satisfied: scipy in c:\\users\\ryans\\anaconda3\\lib\\site-packages (from xgboost) (1.11.4)\n",
      "Note: you may need to restart the kernel to use updated packages.\n"
     ]
    }
   ],
   "source": [
    "pip install xgboost"
   ]
  },
  {
   "cell_type": "code",
   "execution_count": 3,
   "metadata": {
    "executionInfo": {
     "elapsed": 558,
     "status": "ok",
     "timestamp": 1713820214873,
     "user": {
      "displayName": "Ryan So",
      "userId": "03391353705190238264"
     },
     "user_tz": 240
    },
    "id": "b64fcc16"
   },
   "outputs": [],
   "source": [
    "from sklearn.metrics import log_loss, accuracy_score,confusion_matrix, f1_score,roc_auc_score,roc_curve\n",
    "from sklearn.neighbors import KNeighborsClassifier\n",
    "from sklearn.calibration import CalibratedClassifierCV\n",
    "from tqdm import tqdm\n",
    "from sklearn.linear_model import LogisticRegression\n",
    "from sklearn.svm import SVC, LinearSVC\n",
    "from sklearn.ensemble import RandomForestClassifier\n",
    "from sklearn.model_selection import RandomizedSearchCV\n",
    "from xgboost import XGBClassifier\n",
    "import warnings\n",
    "warnings.filterwarnings(\"ignore\")\n",
    "import joblib"
   ]
  },
  {
   "cell_type": "code",
   "execution_count": 9,
   "metadata": {
    "executionInfo": {
     "elapsed": 3,
     "status": "ok",
     "timestamp": 1713820214873,
     "user": {
      "displayName": "Ryan So",
      "userId": "03391353705190238264"
     },
     "user_tz": 240
    },
    "id": "3bb9ac32"
   },
   "outputs": [],
   "source": [
    "# This function plots the confusion matrices given y_i, y_i_hat.\n",
    "def plot_confusion_matrix(test_y, predict_y):\n",
    "    C = confusion_matrix(test_y, predict_y)\n",
    "    print(\"Number of misclassified points \",(len(test_y)-np.trace(C))/len(test_y)*100)\n",
    "    # C = 9,9 matrix, each cell (i,j) represents number of points of class i are predicted class j\n",
    "\n",
    "    A =(((C.T)/(C.sum(axis=1))).T)\n",
    "    #divid each element of the confusion matrix with the sum of elements in that column\n",
    "\n",
    "    # C = [[1, 2],\n",
    "    #     [3, 4]]\n",
    "    # C.T = [[1, 3],\n",
    "    #        [2, 4]]\n",
    "    # C.sum(axis = 1)  axis=0 corresonds to columns and axis=1 corresponds to rows in two diamensional array\n",
    "    # C.sum(axix =1) = [[3, 7]]\n",
    "    # ((C.T)/(C.sum(axis=1))) = [[1/3, 3/7]\n",
    "    #                           [2/3, 4/7]]\n",
    "\n",
    "    # ((C.T)/(C.sum(axis=1))).T = [[1/3, 2/3]\n",
    "    #                           [3/7, 4/7]]\n",
    "    # sum of row elements = 1\n",
    "\n",
    "    B =(C/C.sum(axis=0))\n",
    "    #divid each element of the confusion matrix with the sum of elements in that row\n",
    "    # C = [[1, 2],\n",
    "    #     [3, 4]]\n",
    "    # C.sum(axis = 0)  axis=0 corresonds to columns and axis=1 corresponds to rows in two diamensional array\n",
    "    # C.sum(axix =0) = [[4, 6]]\n",
    "    # (C/C.sum(axis=0)) = [[1/4, 2/6],\n",
    "    #                      [3/4, 4/6]]\n",
    "    plt.figure(figsize=(20,4))\n",
    "\n",
    "    labels = [0,1]\n",
    "    # representing A in heatmap format\n",
    "    cmap=sns.light_palette(\"green\")\n",
    "    plt.subplot(1, 3, 1)\n",
    "    sns.heatmap(C, annot=True, cmap=cmap, fmt=\".3f\", xticklabels=labels, yticklabels=labels)\n",
    "    plt.xlabel('Predicted Class')\n",
    "    plt.ylabel('Original Class')\n",
    "    plt.title(\"Confusion matrix\")\n",
    "\n",
    "    plt.subplot(1, 3, 2)\n",
    "    sns.heatmap(B, annot=True, cmap=cmap, fmt=\".3f\", xticklabels=labels, yticklabels=labels)\n",
    "    plt.xlabel('Predicted Class')\n",
    "    plt.ylabel('Original Class')\n",
    "    plt.title(\"Precision matrix\")\n",
    "\n",
    "    plt.subplot(1, 3, 3)\n",
    "    # representing B in heatmap format\n",
    "    sns.heatmap(A, annot=True, cmap=cmap, fmt=\".3f\", xticklabels=labels, yticklabels=labels)\n",
    "    plt.xlabel('Predicted Class')\n",
    "    plt.ylabel('Original Class')\n",
    "    plt.title(\"Recall matrix\")\n",
    "\n",
    "    plt.show()"
   ]
  },
  {
   "cell_type": "code",
   "execution_count": 10,
   "metadata": {
    "executionInfo": {
     "elapsed": 221,
     "status": "ok",
     "timestamp": 1713820215092,
     "user": {
      "displayName": "Ryan So",
      "userId": "03391353705190238264"
     },
     "user_tz": 240
    },
    "id": "4ab7897e"
   },
   "outputs": [],
   "source": [
    "def model_metrics(clf,train_data,test_data,cv_data):\n",
    "\n",
    "    print('**LogLoss**')\n",
    "    predict_y = clf.predict_proba(train_data)\n",
    "    print (\"The train log loss is:\",log_loss(y_train, predict_y))\n",
    "    predict_y = clf.predict_proba(cv_data)\n",
    "    print( \"The cross validation log loss is:\",log_loss(y_cv, predict_y))\n",
    "    predict_y = clf.predict_proba(test_data)\n",
    "    print( \"The test log loss is:\",log_loss(y_test, predict_y))\n",
    "\n",
    "    print(50*'-')\n",
    "\n",
    "    print('**Accuracy**')\n",
    "    y_pred_tr = clf.predict(train_data)\n",
    "    print (\"The train Accuracy is:\",accuracy_score(y_train, y_pred_tr))\n",
    "    y_pred_cv = clf.predict(cv_data)\n",
    "    print( \"The cross validation Accuracy is:\",accuracy_score(y_cv, y_pred_cv))\n",
    "    y_pred_te = clf.predict(test_data)\n",
    "    print( \"The test Accuracy is:\",accuracy_score(y_test, y_pred_te))\n",
    "\n",
    "    print(50*'-')\n",
    "\n",
    "\n",
    "    print('**F1 Score**')\n",
    "    print (\"The train F1 score is:\",f1_score(y_train, y_pred_tr))\n",
    "    print( \"The cross validation F1 score is:\",f1_score(y_cv, y_pred_cv))\n",
    "    print( \"The test F1 score is:\",f1_score(y_test, y_pred_te))\n",
    "\n",
    "    print(50*'-')\n",
    "\n",
    "    print('**AUC**')\n",
    "    print (\"The train AUC is:\",roc_auc_score(y_train, y_pred_tr))\n",
    "    print( \"The cross validation AUC is:\",roc_auc_score(y_cv, y_pred_cv))\n",
    "    print( \"The test AUC is:\",roc_auc_score(y_test, y_pred_te))\n",
    "\n",
    "    print(50*'-')"
   ]
  },
  {
   "cell_type": "code",
   "execution_count": 11,
   "metadata": {},
   "outputs": [
    {
     "name": "stdout",
     "output_type": "stream",
     "text": [
      "After Encoding\n",
      "Train data shape (103927, 1)\n",
      "Test data shape (63630, 1)\n",
      "CV data shape (44541, 1)\n"
     ]
    }
   ],
   "source": [
    "from sklearn.preprocessing import LabelEncoder\n",
    "lab_enc_year = LabelEncoder()\n",
    "\n",
    "lab_enc_year.fit(X['year'].values)\n",
    "\n",
    "X_train_year = lab_enc_year.transform(X_train['year'].values).reshape(-1,1)\n",
    "X_test_year = lab_enc_year.transform(X_test['year'].values).reshape(-1,1)\n",
    "X_cv_year = lab_enc_year.transform(X_cv['year'].values).reshape(-1,1)\n",
    "\n",
    "print('After Encoding')\n",
    "print('Train data shape',X_train_year.shape)\n",
    "print('Test data shape',X_test_year.shape)\n",
    "print('CV data shape',X_cv_year.shape)"
   ]
  },
  {
   "cell_type": "code",
   "execution_count": 12,
   "metadata": {},
   "outputs": [
    {
     "name": "stdout",
     "output_type": "stream",
     "text": [
      "After dropping the columns the new shapes are:\n",
      "Train data size: (103927, 33)\n",
      "Test data size: (63630, 33)\n",
      "CV data size: (44541, 33)\n"
     ]
    }
   ],
   "source": [
    "drop_col = ['subj_count', 'obj_count', 'CARDINAL', 'DATE', 'EVENT', 'FAC', 'GPE', 'LANGUAGE', 'LAW', 'LOC', 'MONEY',\n",
    " 'NORP', 'ORDINAL', 'ORG', 'PERCENT', 'PERSON', 'PRODUCT', 'QUANTITY', '9', '14']\n",
    "\n",
    "X_train = X_train.drop(drop_col,axis=1)\n",
    "X_test = X_test.drop(drop_col,axis=1)\n",
    "X_cv = X_cv.drop(drop_col,axis=1)\n",
    "\n",
    "print(\"After dropping the columns the new shapes are:\")\n",
    "print('Train data size:',X_train.shape)\n",
    "print('Test data size:',X_test.shape)\n",
    "print('CV data size:',X_cv.shape)"
   ]
  },
  {
   "cell_type": "code",
   "execution_count": 13,
   "metadata": {},
   "outputs": [
    {
     "name": "stdout",
     "output_type": "stream",
     "text": [
      "After vectorizations\n",
      "(103927, 27) (103927,)\n",
      "(63630, 27) (63630,)\n",
      "(44541, 27) (44541,)\n"
     ]
    }
   ],
   "source": [
    "imp_columns = ['usefulCount','word_count', 'unique_word_count', 'char_length', 'count_punctuations',\n",
    "       'stopword_count', 'mean_word_len', 'TIME', 'WORK_OF_ART', '0', '1', '2',\n",
    "               '3', '4', '5', '6', '7', '8', '10', '11', '12', '13', '15', '16', '17', '18', '19']\n",
    "# Normalizing the features after dropping the unimportant features\n",
    "\n",
    "normalizer = Normalizer()\n",
    "\n",
    "X_train_num_2 = normalizer.fit_transform(X_train[imp_columns])\n",
    "X_test_num_2 = normalizer.fit_transform(X_test[imp_columns])\n",
    "X_cv_num_2 = normalizer.fit_transform(X_cv[imp_columns])\n",
    "\n",
    "print(\"After vectorizations\")\n",
    "print(X_train_num_2.shape, y_train.shape)\n",
    "print(X_test_num_2.shape, y_test.shape)\n",
    "print(X_cv_num_2.shape, y_cv.shape)\n"
   ]
  },
  {
   "cell_type": "code",
   "execution_count": 14,
   "metadata": {},
   "outputs": [],
   "source": [
    "from sklearn.preprocessing import LabelEncoder\n",
    "\n",
    "lab_enc_cond = LabelEncoder()\n",
    "\n",
    "lab_enc_cond.fit(X['condition'].values)\n",
    "\n",
    "X_train_condition = lab_enc_cond.transform(X_train['condition'].values).reshape(-1,1)\n",
    "X_test_condition = lab_enc_cond.transform(X_test['condition'].values).reshape(-1,1)\n",
    "X_cv_condition = lab_enc_cond.transform(X_cv['condition'].values).reshape(-1,1)"
   ]
  },
  {
   "cell_type": "code",
   "execution_count": null,
   "metadata": {},
   "outputs": [],
   "source": [
    "from scipy.sparse import hstack\n",
    "X_tr_1 = np.concatenate((X_train_num_2,X_train_sent_score),axis=1)\n",
    "\n",
    "X_te_1 = np.concatenate((X_test_num_2,X_test_sent_score),axis=1)\n",
    "\n",
    "X_cv_1 = np.concatenate((X_cv_num_2,X_cv_sent_score),axis=1)\n",
    "\n",
    "print(\"Final Data matrix\")\n",
    "print(X_tr_1.shape, y_train.shape)\n",
    "print(X_te_1.shape, y_test.shape)\n",
    "print(X_cv_1.shape, y_cv.shape)"
   ]
  },
  {
   "cell_type": "markdown",
   "metadata": {
    "id": "7beccdc4"
   },
   "source": [
    "### Random Model"
   ]
  },
  {
   "cell_type": "code",
   "execution_count": 12,
   "metadata": {
    "colab": {
     "base_uri": "https://localhost:8080/"
    },
    "executionInfo": {
     "elapsed": 1949,
     "status": "ok",
     "timestamp": 1713820217037,
     "user": {
      "displayName": "Ryan So",
      "userId": "03391353705190238264"
     },
     "user_tz": 240
    },
    "id": "2f032c7e",
    "outputId": "7e0329aa-771b-41ca-f6ec-9cde017584bf"
   },
   "outputs": [
    {
     "name": "stdout",
     "output_type": "stream",
     "text": [
      "Log loss on Test Data using Random Model 0.8794795049830448\n",
      "Accuray on Test Data using Random Model 0.5028131384567028\n",
      "F1 score on Test Data using Random Model 0.5865007580906573\n",
      "AUC on Test Data using Random Model 0.5026771369813441\n"
     ]
    }
   ],
   "source": [
    "test_len = len(y_test)\n",
    "predicted_y = np.zeros((test_len,2))\n",
    "for i in range(test_len):\n",
    "    rand_probs = np.random.rand(1,2)\n",
    "    predicted_y[i] = ((rand_probs/sum(sum(rand_probs)))[0])\n",
    "print(\"Log loss on Test Data using Random Model\",log_loss(y_test, predicted_y, eps=1e-15))\n",
    "\n",
    "predicted_y =np.argmax(predicted_y, axis=1)\n",
    "\n",
    "print(\"Accuray on Test Data using Random Model\",accuracy_score(y_test, predicted_y))\n",
    "print(\"F1 score on Test Data using Random Model\",f1_score(y_test, predicted_y))\n",
    "print(\"AUC on Test Data using Random Model\",roc_auc_score(y_test, predicted_y))\n"
   ]
  },
  {
   "cell_type": "code",
   "execution_count": 13,
   "metadata": {
    "colab": {
     "base_uri": "https://localhost:8080/",
     "height": 380
    },
    "executionInfo": {
     "elapsed": 1100,
     "status": "ok",
     "timestamp": 1713820218133,
     "user": {
      "displayName": "Ryan So",
      "userId": "03391353705190238264"
     },
     "user_tz": 240
    },
    "id": "9024a555",
    "outputId": "d95dcbed-b95c-401a-817e-9723250611cb"
   },
   "outputs": [
    {
     "name": "stdout",
     "output_type": "stream",
     "text": [
      "Number of misclassified points  49.71868615432972\n"
     ]
    },
    {
     "data": {
      "image/png": "[encoded data removed]",
      "text/plain": [
       "<Figure size 2000x400 with 6 Axes>"
      ]
     },
     "metadata": {},
     "output_type": "display_data"
    }
   ],
   "source": [
    "plot_confusion_matrix(y_test,predicted_y)"
   ]
  },
  {
   "cell_type": "markdown",
   "metadata": {
    "id": "bfb73ec6"
   },
   "source": [
    "Observation:\n",
    "- The Random model shows that the worst case log loss,F1 score, Accuracy and AUC."
   ]
  },
  {
   "cell_type": "markdown",
   "metadata": {
    "id": "ef2fe88e"
   },
   "source": [
    "### K Nearest Neighbour Classification"
   ]
  },
  {
   "cell_type": "code",
   "execution_count": 14,
   "metadata": {
    "colab": {
     "base_uri": "https://localhost:8080/"
    },
    "executionInfo": {
     "elapsed": 398343,
     "status": "ok",
     "timestamp": 1713820616467,
     "user": {
      "displayName": "Ryan So",
      "userId": "03391353705190238264"
     },
     "user_tz": 240
    },
    "id": "0a97c884",
    "outputId": "794acaa1-8782-4fab-83cb-e0d1f9ba1978"
   },
   "outputs": [
    {
     "name": "stdout",
     "output_type": "stream",
     "text": [
      "Fitting 3 folds for each of 7 candidates, totalling 21 fits\n",
      "{'n_neighbors': 13}\n"
     ]
    }
   ],
   "source": [
    "param ={'n_neighbors': [x for x in range(1, 15, 2)]}\n",
    "\n",
    "k_cfl = KNeighborsClassifier()\n",
    "\n",
    "random_kcfl = RandomizedSearchCV(k_cfl,param_distributions=param,scoring='f1',verbose=1,n_jobs=-1,cv=3)\n",
    "random_kcfl.fit(X_tr_1,y_train)\n",
    "\n",
    "print(random_kcfl.best_params_)\n"
   ]
  },
  {
   "cell_type": "code",
   "execution_count": 15,
   "metadata": {
    "colab": {
     "base_uri": "https://localhost:8080/",
     "height": 730
    },
    "executionInfo": {
     "elapsed": 1457865,
     "status": "ok",
     "timestamp": 1713822074328,
     "user": {
      "displayName": "Ryan So",
      "userId": "03391353705190238264"
     },
     "user_tz": 240
    },
    "id": "13fd8bed",
    "outputId": "dc1113d8-6bc4-4a5b-d933-2f53f843520e"
   },
   "outputs": [
    {
     "name": "stdout",
     "output_type": "stream",
     "text": [
      "**LogLoss**\n",
      "The train log loss is: 0.4955295110068665\n",
      "The cross validation log loss is: 0.5340962997042404\n",
      "The test log loss is: 0.5342011855308404\n",
      "--------------------------------------------------\n",
      "**Accuracy**\n",
      "The train Accuracy is: 0.756531026585969\n",
      "The cross validation Accuracy is: 0.7320895354841607\n",
      "The test Accuracy is: 0.7314159987427314\n",
      "--------------------------------------------------\n",
      "**F1 Score**\n",
      "The train F1 score is: 0.843324107270014\n",
      "The cross validation F1 score is: 0.827684798775469\n",
      "The test F1 score is: 0.8274120902425723\n",
      "--------------------------------------------------\n",
      "**AUC**\n",
      "The train AUC is: 0.6367395454524185\n",
      "The cross validation AUC is: 0.6072020892608808\n",
      "The test AUC is: 0.6057052601649209\n",
      "--------------------------------------------------\n",
      "Number of misclassified points  26.858400125726856\n"
     ]
    },
    {
     "data": {
      "image/png": "[encoded data removed]",
      "text/plain": [
       "<Figure size 2000x400 with 6 Axes>"
      ]
     },
     "metadata": {},
     "output_type": "display_data"
    }
   ],
   "source": [
    "k_cfl=KNeighborsClassifier(n_neighbors=13,n_jobs=-1)\n",
    "k_cfl.fit(X_tr_1,y_train)\n",
    "sig_clf = CalibratedClassifierCV(k_cfl, method=\"sigmoid\")\n",
    "sig_clf.fit(X_tr_1, y_train)\n",
    "\n",
    "model_metrics(sig_clf,X_tr_1,X_te_1,X_cv_1)\n",
    "\n",
    "plot_confusion_matrix(y_test, sig_clf.predict(X_te_1))\n"
   ]
  },
  {
   "cell_type": "markdown",
   "metadata": {
    "id": "416bb628"
   },
   "source": [
    "### Logistic Regression"
   ]
  },
  {
   "cell_type": "code",
   "execution_count": 16,
   "metadata": {
    "colab": {
     "base_uri": "https://localhost:8080/"
    },
    "executionInfo": {
     "elapsed": 22223,
     "status": "ok",
     "timestamp": 1713822096541,
     "user": {
      "displayName": "Ryan So",
      "userId": "03391353705190238264"
     },
     "user_tz": 240
    },
    "id": "5ff6657f",
    "outputId": "6dc16732-f1e2-4aee-afce-f5fa3868822c"
   },
   "outputs": [
    {
     "name": "stdout",
     "output_type": "stream",
     "text": [
      "Fitting 3 folds for each of 9 candidates, totalling 27 fits\n",
      "{'C': 1000}\n"
     ]
    }
   ],
   "source": [
    "param = {'C':[10 ** x for x in range(-5, 4)]}\n",
    "\n",
    "logisticR=LogisticRegression(penalty='l2',class_weight='balanced')\n",
    "\n",
    "random_lr = RandomizedSearchCV(logisticR,param_distributions=param,scoring='f1',verbose=1,n_jobs=-1,cv=3)\n",
    "random_lr.fit(X_tr_1,y_train)\n",
    "\n",
    "print(random_lr.best_params_)\n"
   ]
  },
  {
   "cell_type": "code",
   "execution_count": 17,
   "metadata": {
    "colab": {
     "base_uri": "https://localhost:8080/",
     "height": 730
    },
    "executionInfo": {
     "elapsed": 17327,
     "status": "ok",
     "timestamp": 1713822113863,
     "user": {
      "displayName": "Ryan So",
      "userId": "03391353705190238264"
     },
     "user_tz": 240
    },
    "id": "fd4d440a",
    "outputId": "54f126c6-8c2f-40a8-cbb7-04ede5bdc6f1"
   },
   "outputs": [
    {
     "name": "stdout",
     "output_type": "stream",
     "text": [
      "**LogLoss**\n",
      "The train log loss is: 0.5357801971700231\n",
      "The cross validation log loss is: 0.5350928055674667\n",
      "The test log loss is: 0.5363154589503704\n",
      "--------------------------------------------------\n",
      "**Accuracy**\n",
      "The train Accuracy is: 0.7327739663417591\n",
      "The cross validation Accuracy is: 0.7342448530567343\n",
      "The test Accuracy is: 0.7324846770391324\n",
      "--------------------------------------------------\n",
      "**F1 Score**\n",
      "The train F1 score is: 0.8251948084645694\n",
      "The cross validation F1 score is: 0.8262152599356952\n",
      "The test F1 score is: 0.8251176361805741\n",
      "--------------------------------------------------\n",
      "**AUC**\n",
      "The train AUC is: 0.6205130868962049\n",
      "The cross validation AUC is: 0.622021013086153\n",
      "The test AUC is: 0.6196976294008634\n",
      "--------------------------------------------------\n",
      "Number of misclassified points  26.75153229608675\n"
     ]
    },
    {
     "data": {
      "image/png": "[encoded data removed]",
      "text/plain": [
       "<Figure size 2000x400 with 6 Axes>"
      ]
     },
     "metadata": {},
     "output_type": "display_data"
    }
   ],
   "source": [
    "logisticR=LogisticRegression(C=100 ,penalty='l2',class_weight='balanced',n_jobs=-1)\n",
    "logisticR.fit(X_tr_1,y_train)\n",
    "sig_clf = CalibratedClassifierCV(logisticR, method=\"sigmoid\")\n",
    "sig_clf.fit(X_tr_1, y_train)\n",
    "\n",
    "\n",
    "model_metrics(sig_clf,X_tr_1,X_te_1,X_cv_1)\n",
    "\n",
    "plot_confusion_matrix(y_test, sig_clf.predict(X_te_1))"
   ]
  },
  {
   "cell_type": "markdown",
   "metadata": {
    "id": "0ed36731"
   },
   "source": [
    "### Linear Support Vector Classification"
   ]
  },
  {
   "cell_type": "code",
   "execution_count": 18,
   "metadata": {
    "colab": {
     "base_uri": "https://localhost:8080/"
    },
    "executionInfo": {
     "elapsed": 169464,
     "status": "ok",
     "timestamp": 1713822283315,
     "user": {
      "displayName": "Ryan So",
      "userId": "03391353705190238264"
     },
     "user_tz": 240
    },
    "id": "36c728d2",
    "outputId": "eff9a5eb-07ed-4add-9af3-268ed9fd23c5"
   },
   "outputs": [
    {
     "name": "stdout",
     "output_type": "stream",
     "text": [
      "Fitting 3 folds for each of 4 candidates, totalling 12 fits\n",
      "{'C': 0.001}\n"
     ]
    }
   ],
   "source": [
    "param= {'C':[0.001,1,10,100]}\n",
    "\n",
    "linSVC=LinearSVC(penalty='l2',loss='hinge')\n",
    "\n",
    "random_svc = RandomizedSearchCV(linSVC,param_distributions=param,scoring='f1',verbose=1,n_jobs=-1,cv=3)\n",
    "random_svc.fit(X_tr_1,y_train)\n",
    "\n",
    "print(random_svc.best_params_)\n"
   ]
  },
  {
   "cell_type": "code",
   "execution_count": 19,
   "metadata": {
    "colab": {
     "base_uri": "https://localhost:8080/",
     "height": 730
    },
    "executionInfo": {
     "elapsed": 5730,
     "status": "ok",
     "timestamp": 1713822289040,
     "user": {
      "displayName": "Ryan So",
      "userId": "03391353705190238264"
     },
     "user_tz": 240
    },
    "id": "b2b27162",
    "outputId": "470ae182-e9f8-4b1a-d531-b146b9c9daa6"
   },
   "outputs": [
    {
     "name": "stdout",
     "output_type": "stream",
     "text": [
      "**LogLoss**\n",
      "The train log loss is: 0.5575041225422473\n",
      "The cross validation log loss is: 0.5575125635829865\n",
      "The test log loss is: 0.5582951047180065\n",
      "--------------------------------------------------\n",
      "**Accuracy**\n",
      "The train Accuracy is: 0.7166568841590732\n",
      "The cross validation Accuracy is: 0.7188433129027189\n",
      "The test Accuracy is: 0.7153543925821153\n",
      "--------------------------------------------------\n",
      "**F1 Score**\n",
      "The train F1 score is: 0.8229145994575643\n",
      "The cross validation F1 score is: 0.8240830488712827\n",
      "The test F1 score is: 0.822030067799941\n",
      "--------------------------------------------------\n",
      "**AUC**\n",
      "The train AUC is: 0.5670981258860823\n",
      "The cross validation AUC is: 0.5705662765616655\n",
      "The test AUC is: 0.5658446258254592\n",
      "--------------------------------------------------\n",
      "Number of misclassified points  28.464560741788464\n"
     ]
    },
    {
     "data": {
      "image/png": "[encoded data removed]",
      "text/plain": [
       "<Figure size 2000x400 with 6 Axes>"
      ]
     },
     "metadata": {},
     "output_type": "display_data"
    }
   ],
   "source": [
    "linSVC=LinearSVC(C=0.001 ,penalty='l2',loss='hinge')\n",
    "linSVC.fit(X_tr_1,y_train)\n",
    "sig_clf = CalibratedClassifierCV(linSVC, method=\"sigmoid\")\n",
    "sig_clf.fit(X_tr_1, y_train)\n",
    "\n",
    "\n",
    "model_metrics(sig_clf,X_tr_1,X_te_1,X_cv_1)\n",
    "\n",
    "plot_confusion_matrix(y_test, sig_clf.predict(X_te_1))"
   ]
  },
  {
   "cell_type": "markdown",
   "metadata": {
    "id": "7a14d0df"
   },
   "source": [
    "### Random Forest Classifier"
   ]
  },
  {
   "cell_type": "code",
   "execution_count": 20,
   "metadata": {
    "colab": {
     "base_uri": "https://localhost:8080/"
    },
    "executionInfo": {
     "elapsed": 10589012,
     "status": "ok",
     "timestamp": 1713832877804,
     "user": {
      "displayName": "Ryan So",
      "userId": "03391353705190238264"
     },
     "user_tz": 240
    },
    "id": "04919d00",
    "outputId": "a0bbcdcf-84e6-4945-85a3-46d60d337e4d"
   },
   "outputs": [
    {
     "name": "stdout",
     "output_type": "stream",
     "text": [
      "{'n_estimators': 3000}\n"
     ]
    }
   ],
   "source": [
    "param = {'n_estimators':[100,500,1000,2000,3000]}\n",
    "\n",
    "rf_clf =RandomForestClassifier(random_state=42,n_jobs=-1)\n",
    "\n",
    "random_rf = RandomizedSearchCV(rf_clf,param_distributions=param,scoring='f1',verbose=0,n_jobs=-1,cv=3)\n",
    "random_rf.fit(X_tr_1,y_train)\n",
    "\n",
    "print(random_rf.best_params_)"
   ]
  },
  {
   "cell_type": "code",
   "execution_count": null,
   "metadata": {
    "id": "2d36c070"
   },
   "outputs": [],
   "source": [
    "rf_clf =RandomForestClassifier(n_estimators=3000 ,random_state=42,n_jobs=-1)\n",
    "rf_clf.fit(X_tr_1,y_train)\n",
    "sig_clf = CalibratedClassifierCV(rf_clf, method=\"sigmoid\")\n",
    "sig_clf.fit(X_tr_1, y_train)\n",
    "\n",
    "\n",
    "model_metrics(sig_clf,X_tr_1,X_te_1,X_cv_1)\n",
    "\n",
    "plot_confusion_matrix(y_test, sig_clf.predict(X_te_1))"
   ]
  },
  {
   "cell_type": "markdown",
   "metadata": {
    "id": "489760fc"
   },
   "source": [
    "### XGBOOST Classifier"
   ]
  },
  {
   "cell_type": "code",
   "execution_count": null,
   "metadata": {
    "id": "4447edb2"
   },
   "outputs": [],
   "source": [
    "param = {'n_estimators':[100,500,1000,2000,3000]}\n",
    "\n",
    "x_clf =XGBClassifier(nthread=-1,eval_metric='logloss',objective='binary:logistic', random_state=0)\n",
    "\n",
    "random_xgb = RandomizedSearchCV(x_clf,param_distributions=param,scoring='f1',verbose=0,n_jobs=-1,cv=3)\n",
    "random_xgb.fit(X_tr_1,y_train)\n",
    "\n",
    "print(random_xgb.best_params_)"
   ]
  },
  {
   "cell_type": "code",
   "execution_count": null,
   "metadata": {
    "id": "5c9a47cc"
   },
   "outputs": [],
   "source": [
    "#https://machinelearningmastery.com/avoid-overfitting-by-early-stopping-with-xgboost-in-python/\n",
    "\n",
    "eval_set = [(X_tr_1, y_train), (X_te_1, y_test)]\n",
    "\n",
    "x_clf =XGBClassifier(n_estimators=3000,nthread=-1,eval_metric='logloss',objective='binary:logistic',random_state=0)\n",
    "x_clf.fit(X_tr_1,y_train,eval_set=eval_set,verbose=0)\n",
    "sig_clf = CalibratedClassifierCV(x_clf, method=\"sigmoid\")\n",
    "sig_clf.fit(X_tr_1, y_train)\n",
    "\n",
    "\n",
    "model_metrics(sig_clf,X_tr_1,X_te_1,X_cv_1)\n",
    "\n",
    "results = x_clf.evals_result()\n",
    "epochs = len(results['validation_0']['logloss'])\n",
    "x_axis = range(0, epochs)\n",
    "# plot log loss\n",
    "fig, ax = plt.subplots()\n",
    "ax.plot(x_axis, results['validation_0']['logloss'], label='Train')\n",
    "ax.plot(x_axis, results['validation_1']['logloss'], label='Test')\n",
    "ax.legend()\n",
    "plt.ylabel('Log Loss')\n",
    "plt.title('XGBoost Log Loss')\n",
    "plt.show()\n",
    "\n",
    "\n",
    "plot_confusion_matrix(y_test, sig_clf.predict(X_te_1))"
   ]
  },
  {
   "cell_type": "markdown",
   "metadata": {
    "id": "0484c4a2"
   },
   "source": [
    "<b> Observations:</b>\n",
    "- For all the numerical features, the Random Forest and XGB Classifiers works well but both of them are observed to be overfitting. We need to tune the hyperparameters to avoid overfitting in later stages.\n",
    "- Using Random Forest classifier, the important numerical features can be selected for further modelling."
   ]
  },
  {
   "cell_type": "code",
   "execution_count": 20,
   "metadata": {
    "id": "8ce7ac62"
   },
   "outputs": [],
   "source": [
    "columns = ['usefulCount', 'sentiment_score', 'sentiment_score_clean', 'word_count',\n",
    "       'unique_word_count', 'char_length', 'count_punctuations',\n",
    "       'stopword_count', 'mean_word_len', 'subj_count', 'obj_count',\n",
    "       'CARDINAL', 'DATE', 'EVENT', 'FAC', 'GPE', 'LANGUAGE', 'LAW', 'LOC',\n",
    "       'MONEY', 'NORP', 'ORDINAL', 'ORG', 'PERCENT', 'PERSON', 'PRODUCT',\n",
    "       'QUANTITY', 'TIME', 'WORK_OF_ART', '0', '1', '2', '3', '4', '5', '6',\n",
    "       '7', '8', '9', '10', '11', '12', '13', '14', '15', '16', '17', '18',\n",
    "       '19']"
   ]
  },
  {
   "cell_type": "code",
   "execution_count": 21,
   "metadata": {
    "id": "284d0a79"
   },
   "outputs": [],
   "source": [
    "# https://chrisalbon.com/code/machine_learning/trees_and_forests/feature_selection_using_random_forest/\n",
    "# https://towardsdatascience.com/feature-selection-using-random-forest-26d7b747597f\n",
    "\n",
    "from sklearn.feature_selection import SelectFromModel\n",
    "\n",
    "def feature_selection_RF(classifier,train_data):\n",
    "\n",
    "    '''this function takes classifier and data as input and returns the columns/features need to be dropped'''\n",
    "\n",
    "    model = SelectFromModel(classifier,prefit=True)\n",
    "\n",
    "    X_new = model.transform(train_data)\n",
    "\n",
    "    print('Important features count from RF feature importance are:',X_new.shape)\n",
    "\n",
    "    idx = list(model.get_support())\n",
    "    col= np.array(columns)\n",
    "    imp_col = col[idx]\n",
    "    all_col = columns\n",
    "    drop_col=[]\n",
    "    for i in all_col:\n",
    "        if i not in imp_col:\n",
    "            drop_col.append(i)\n",
    "    print('Count of features to be dropped:',len(drop_col))\n",
    "\n",
    "    return drop_col\n"
   ]
  },
  {
   "cell_type": "code",
   "execution_count": 22,
   "metadata": {
    "id": "ff70f383"
   },
   "outputs": [
    {
     "ename": "NameError",
     "evalue": "name 'rf_clf' is not defined",
     "output_type": "error",
     "traceback": [
      "\u001b[1;31m---------------------------------------------------------------------------\u001b[0m",
      "\u001b[1;31mNameError\u001b[0m                                 Traceback (most recent call last)",
      "Cell \u001b[1;32mIn[22], line 1\u001b[0m\n\u001b[1;32m----> 1\u001b[0m drop_col \u001b[38;5;241m=\u001b[39m feature_selection_RF(rf_clf,X_tr_1)\n",
      "\u001b[1;31mNameError\u001b[0m: name 'rf_clf' is not defined"
     ]
    }
   ],
   "source": [
    "drop_col = feature_selection_RF(rf_clf,X_tr_1) # feature selection using RF feature importances"
   ]
  },
  {
   "cell_type": "code",
   "execution_count": null,
   "metadata": {
    "id": "f028e8a5"
   },
   "outputs": [],
   "source": [
    "drop_col"
   ]
  },
  {
   "cell_type": "markdown",
   "metadata": {
    "id": "5c1b3602"
   },
   "source": [
    "- From Random Forest feature selection, 20 features can be dropped from our dataset and consider the 29 features for next step of modelling"
   ]
  },
  {
   "cell_type": "code",
   "execution_count": 23,
   "metadata": {
    "id": "bc02d442"
   },
   "outputs": [],
   "source": [
    "drop_col = ['subj_count', 'obj_count', 'CARDINAL', 'DATE', 'EVENT', 'FAC', 'GPE', 'LANGUAGE', 'LAW', 'LOC', 'MONEY',\n",
    " 'NORP', 'ORDINAL', 'ORG', 'PERCENT', 'PERSON', 'PRODUCT', 'QUANTITY', '9', '14']"
   ]
  },
  {
   "cell_type": "code",
   "execution_count": 24,
   "metadata": {
    "id": "fd178928"
   },
   "outputs": [
    {
     "name": "stdout",
     "output_type": "stream",
     "text": [
      "After dropping the columns the new shapes are:\n",
      "Train data size: (103927, 33)\n",
      "Test data size: (63630, 33)\n",
      "CV data size: (44541, 33)\n"
     ]
    }
   ],
   "source": [
    "X_train = X_train.drop(drop_col,axis=1)\n",
    "X_test = X_test.drop(drop_col,axis=1)\n",
    "X_cv = X_cv.drop(drop_col,axis=1)\n",
    "\n",
    "print(\"After dropping the columns the new shapes are:\")\n",
    "print('Train data size:',X_train.shape)\n",
    "print('Test data size:',X_test.shape)\n",
    "print('CV data size:',X_cv.shape)"
   ]
  },
  {
   "cell_type": "code",
   "execution_count": 25,
   "metadata": {
    "id": "0305702e"
   },
   "outputs": [
    {
     "data": {
      "text/plain": [
       "Index(['drugName', 'condition', 'usefulCount', 'cleaned_review',\n",
       "       'sentiment_score', 'sentiment_score_clean', 'year', 'word_count',\n",
       "       'unique_word_count', 'char_length', 'count_punctuations',\n",
       "       'stopword_count', 'mean_word_len', 'TIME', 'WORK_OF_ART', '0', '1', '2',\n",
       "       '3', '4', '5', '6', '7', '8', '10', '11', '12', '13', '15', '16', '17',\n",
       "       '18', '19'],\n",
       "      dtype='object')"
      ]
     },
     "execution_count": 25,
     "metadata": {},
     "output_type": "execute_result"
    }
   ],
   "source": [
    "X_train.columns"
   ]
  },
  {
   "cell_type": "code",
   "execution_count": 26,
   "metadata": {
    "id": "e1658899"
   },
   "outputs": [],
   "source": [
    "imp_columns = ['usefulCount','word_count', 'unique_word_count', 'char_length', 'count_punctuations',\n",
    "       'stopword_count', 'mean_word_len', 'TIME', 'WORK_OF_ART', '0', '1', '2',\n",
    "               '3', '4', '5', '6', '7', '8', '10', '11', '12', '13', '15', '16', '17', '18', '19']\n"
   ]
  },
  {
   "cell_type": "code",
   "execution_count": 27,
   "metadata": {
    "id": "ca13787e"
   },
   "outputs": [
    {
     "name": "stdout",
     "output_type": "stream",
     "text": [
      "After vectorizations\n",
      "(103927, 27) (103927,)\n",
      "(63630, 27) (63630,)\n",
      "(44541, 27) (44541,)\n"
     ]
    }
   ],
   "source": [
    "# Normalizing the features after dropping the unimportant features\n",
    "\n",
    "normalizer = Normalizer()\n",
    "\n",
    "X_train_num_2 = normalizer.fit_transform(X_train[imp_columns])\n",
    "X_test_num_2 = normalizer.fit_transform(X_test[imp_columns])\n",
    "X_cv_num_2 = normalizer.fit_transform(X_cv[imp_columns])\n",
    "\n",
    "print(\"After vectorizations\")\n",
    "print(X_train_num_2.shape, y_train.shape)\n",
    "print(X_test_num_2.shape, y_test.shape)\n",
    "print(X_cv_num_2.shape, y_cv.shape)\n"
   ]
  },
  {
   "cell_type": "markdown",
   "metadata": {
    "id": "cdd4b5a3"
   },
   "source": [
    "### Set - 1 : Important Numerical Features + Sentiment Scores"
   ]
  },
  {
   "cell_type": "code",
   "execution_count": null,
   "metadata": {
    "id": "ca94be03"
   },
   "outputs": [],
   "source": [
    "#concatenating all encoded features for set 1\n",
    "\n",
    "from scipy.sparse import hstack\n",
    "X_tr_1 = np.concatenate((X_train_num_2,X_train_sent_score),axis=1)\n",
    "\n",
    "X_te_1 = np.concatenate((X_test_num_2,X_test_sent_score),axis=1)\n",
    "\n",
    "X_cv_1 = np.concatenate((X_cv_num_2,X_cv_sent_score),axis=1)\n",
    "\n",
    "print(\"Final Data matrix\")\n",
    "print(X_tr_1.shape, y_train.shape)\n",
    "print(X_te_1.shape, y_test.shape)\n",
    "print(X_cv_1.shape, y_cv.shape)"
   ]
  },
  {
   "cell_type": "markdown",
   "metadata": {
    "id": "18b13330"
   },
   "source": [
    "#### HyperParameter Tuning on XGBClassifier"
   ]
  },
  {
   "cell_type": "code",
   "execution_count": null,
   "metadata": {
    "id": "17c38395",
    "scrolled": true
   },
   "outputs": [],
   "source": [
    "x_cfl_1 = XGBClassifier()\n",
    "prams={\n",
    "'learning_rate':[0.01,0.03,0.05,0.1,0.15,0.2],\n",
    "'n_estimators':[100,500,1000,2000,3000],\n",
    "'max_depth':[3,5,7,10,30,50],\n",
    "'colsample_bytree':[0.1,0.3,0.5,1],\n",
    "'subsample':[0.1,0.3,0.5,1]\n",
    "}\n",
    "x_random_cfl_1 = RandomizedSearchCV(x_cfl_1,param_distributions=prams,verbose=0,n_jobs=-1,cv=3,scoring='f1')\n",
    "x_random_cfl_1.fit(X_tr_1,y_train)\n",
    "\n",
    "print(x_random_cfl_1.best_params_)\n",
    "print(x_random_cfl_1.best_score_)"
   ]
  },
  {
   "cell_type": "markdown",
   "metadata": {
    "id": "583ee272"
   },
   "source": [
    "#### Training the XGB Classifier with Best parameters"
   ]
  },
  {
   "cell_type": "code",
   "execution_count": 14,
   "metadata": {
    "id": "db2d6967"
   },
   "outputs": [
    {
     "ename": "NameError",
     "evalue": "name 'model_metrics' is not defined",
     "output_type": "error",
     "traceback": [
      "\u001b[1;31m---------------------------------------------------------------------------\u001b[0m",
      "\u001b[1;31mNameError\u001b[0m                                 Traceback (most recent call last)",
      "Cell \u001b[1;32mIn[14], line 12\u001b[0m\n\u001b[0;32m      9\u001b[0m x_sig_clf_1 \u001b[38;5;241m=\u001b[39m CalibratedClassifierCV(x_cfl_1, method\u001b[38;5;241m=\u001b[39m\u001b[38;5;124m\"\u001b[39m\u001b[38;5;124msigmoid\u001b[39m\u001b[38;5;124m\"\u001b[39m)\n\u001b[0;32m     10\u001b[0m x_sig_clf_1\u001b[38;5;241m.\u001b[39mfit(X_tr_1, y_train)\n\u001b[1;32m---> 12\u001b[0m model_metrics(x_sig_clf_1,X_tr_1,X_te_1,X_cv_1)\n\u001b[0;32m     14\u001b[0m results \u001b[38;5;241m=\u001b[39m x_cfl_1\u001b[38;5;241m.\u001b[39mevals_result()\n\u001b[0;32m     15\u001b[0m epochs \u001b[38;5;241m=\u001b[39m \u001b[38;5;28mlen\u001b[39m(results[\u001b[38;5;124m'\u001b[39m\u001b[38;5;124mvalidation_0\u001b[39m\u001b[38;5;124m'\u001b[39m][\u001b[38;5;124m'\u001b[39m\u001b[38;5;124mlogloss\u001b[39m\u001b[38;5;124m'\u001b[39m])\n",
      "\u001b[1;31mNameError\u001b[0m: name 'model_metrics' is not defined"
     ]
    }
   ],
   "source": [
    "# Here early stopping parameter has been used as in the above xgboost model there is an overfitting\n",
    "# occured with same 3000 estimators\n",
    "\n",
    "\n",
    "eval_set = [(X_tr_1, y_train), (X_cv_1, y_cv)]\n",
    "\n",
    "x_cfl_1=XGBClassifier(n_estimators=3000,subsample=1,max_depth=30,learning_rate=0.2,colsample_bytree=0.5,nthread=-1,objective='binary:logistic', random_state=0)\n",
    "x_cfl_1.fit(X_tr_1,y_train,eval_set=eval_set,eval_metric='logloss',verbose=0,early_stopping_rounds=30)\n",
    "x_sig_clf_1 = CalibratedClassifierCV(x_cfl_1, method=\"sigmoid\")\n",
    "x_sig_clf_1.fit(X_tr_1, y_train)\n",
    "\n",
    "model_metrics(x_sig_clf_1,X_tr_1,X_te_1,X_cv_1)\n",
    "results = x_cfl_1.evals_result()\n",
    "epochs = len(results['validation_0']['logloss'])\n",
    "x_axis = range(0, epochs)\n",
    "# plot log loss\n",
    "fig, ax = plt.subplots()\n",
    "ax.plot(x_axis, results['validation_0']['logloss'], label='Train')\n",
    "ax.plot(x_axis, results['validation_1']['logloss'], label='Test')\n",
    "ax.legend()\n",
    "plt.ylabel('Log Loss')\n",
    "plt.title('XGBoost Log Loss')\n",
    "plt.show()\n",
    "\n",
    "\n",
    "plot_confusion_matrix(y_test, x_sig_clf_1.predict(X_te_1))"
   ]
  },
  {
   "cell_type": "code",
   "execution_count": 16,
   "metadata": {},
   "outputs": [
    {
     "name": "stdout",
     "output_type": "stream",
     "text": [
      "**LogLoss**\n",
      "The train log loss is: 0.1644719243540991\n",
      "The cross validation log loss is: 0.3906188410866541\n",
      "The test log loss is: 0.39112911593958577\n",
      "--------------------------------------------------\n",
      "**Accuracy**\n",
      "The train Accuracy is: 0.9999518893069174\n",
      "The cross validation Accuracy is: 0.8511708313688512\n",
      "The test Accuracy is: 0.8517051705170517\n",
      "--------------------------------------------------\n",
      "**F1 Score**\n",
      "The train F1 score is: 0.9999656831456202\n",
      "The cross validation F1 score is: 0.8982829786254622\n",
      "The test F1 score is: 0.898785772514695\n",
      "--------------------------------------------------\n",
      "**AUC**\n",
      "The train AUC is: 0.9999287822822562\n",
      "The cross validation AUC is: 0.7931422205621412\n",
      "The test AUC is: 0.7928268415959463\n",
      "--------------------------------------------------\n"
     ]
    }
   ],
   "source": [
    "model_metrics(x_sig_clf_1,X_tr_1,X_te_1,X_cv_1)"
   ]
  },
  {
   "cell_type": "code",
   "execution_count": null,
   "metadata": {},
   "outputs": [],
   "source": [
    "results = x_cfl_1.evals_result()\n",
    "epochs = len(results['validation_0']['logloss'])\n",
    "x_axis = range(0, epochs)\n",
    "# plot log loss\n",
    "fig, ax = plt.subplots()\n",
    "ax.plot(x_axis, results['validation_0']['logloss'], label='Train')\n",
    "ax.plot(x_axis, results['validation_1']['logloss'], label='Test')\n",
    "ax.legend()\n",
    "plt.ylabel('Log Loss')\n",
    "plt.title('XGBoost Log Loss')\n",
    "plt.show()\n",
    "\n",
    "\n",
    "plot_confusion_matrix(y_test, x_sig_clf_1.predict(X_te_1))"
   ]
  },
  {
   "cell_type": "code",
   "execution_count": 17,
   "metadata": {
    "id": "ccaff8fa"
   },
   "outputs": [],
   "source": [
    "import joblib"
   ]
  },
  {
   "cell_type": "code",
   "execution_count": 18,
   "metadata": {
    "id": "ab252b6a"
   },
   "outputs": [
    {
     "name": "stdout",
     "output_type": "stream",
     "text": [
      "Extracted features Model saved..\n"
     ]
    },
    {
     "data": {
      "text/plain": [
       "['../BDS_project/extracted_model.pkl']"
      ]
     },
     "execution_count": 18,
     "metadata": {},
     "output_type": "execute_result"
    }
   ],
   "source": [
    "print('Extracted features Model saved..')\n",
    "\n",
    "joblib.dump(x_sig_clf_1, '../BDS_project/extracted_model.pkl')"
   ]
  },
  {
   "cell_type": "markdown",
   "metadata": {
    "id": "8ffc6dac"
   },
   "source": [
    "<b>Observations:\n",
    "- The XGB classifier with hyper parameter tuning performs well on Set 1 features with log loss of 0.3998 and F1 scoe of 0.895\n",
    "- This model is saved for Set 1 features"
   ]
  },
  {
   "cell_type": "markdown",
   "metadata": {
    "id": "f5e19af3"
   },
   "source": [
    "### Set -2 Extracted Features + Sentiment Scores + Reviews Bow (uni-gram) vectors"
   ]
  },
  {
   "cell_type": "code",
   "execution_count": 16,
   "metadata": {},
   "outputs": [
    {
     "name": "stdout",
     "output_type": "stream",
     "text": [
      "After Encoding\n",
      "Train data shape (103927, 1)\n",
      "Test data shape (63630, 1)\n",
      "CV data shape (44541, 1)\n"
     ]
    }
   ],
   "source": [
    "from sklearn.preprocessing import LabelEncoder\n",
    "lab_enc_year = LabelEncoder()\n",
    "\n",
    "lab_enc_year.fit(X['year'].values)\n",
    "\n",
    "X_train_year = lab_enc_year.transform(X_train['year'].values).reshape(-1,1)\n",
    "X_test_year = lab_enc_year.transform(X_test['year'].values).reshape(-1,1)\n",
    "X_cv_year = lab_enc_year.transform(X_cv['year'].values).reshape(-1,1)\n",
    "\n",
    "print('After Encoding')\n",
    "print('Train data shape',X_train_year.shape)\n",
    "print('Test data shape',X_test_year.shape)\n",
    "print('CV data shape',X_cv_year.shape)"
   ]
  },
  {
   "cell_type": "code",
   "execution_count": 32,
   "metadata": {},
   "outputs": [
    {
     "name": "stdout",
     "output_type": "stream",
     "text": [
      "After Vectorization\n",
      "Train data shape: (103927, 7309)\n",
      "Test data shape: (63630, 7309)\n",
      "CV data shape: (44541, 7309)\n"
     ]
    }
   ],
   "source": [
    "vect_bow_1 = joblib.load('../BDS_project/vectorizer_bow.pkl')\n",
    "\n",
    "X_train_review_bow_1 = vect_bow_1.transform(X_train['cleaned_review'].values)\n",
    "X_test_review_bow_1 = vect_bow_1.transform(X_test['cleaned_review'].values)\n",
    "X_cv_review_bow_1 = vect_bow_1.transform(X_cv['cleaned_review'].values)\n",
    "\n",
    "print('After Vectorization')\n",
    "print('Train data shape:',X_train_review_bow_1.shape)\n",
    "print('Test data shape:',X_test_review_bow_1.shape)\n",
    "print('CV data shape:',X_cv_review_bow_1.shape)"
   ]
  },
  {
   "cell_type": "code",
   "execution_count": 33,
   "metadata": {
    "id": "13acefbb"
   },
   "outputs": [
    {
     "name": "stdout",
     "output_type": "stream",
     "text": [
      "Final Data matrix\n",
      "(103927, 7340) (103927,)\n",
      "(63630, 7340) (63630,)\n",
      "(44541, 7340) (44541,)\n"
     ]
    }
   ],
   "source": [
    "#concatenating all encoded features for set 2\n",
    "\n",
    "from sklearn.preprocessing import LabelEncoder\n",
    "\n",
    "lab_enc_cond = LabelEncoder()\n",
    "\n",
    "lab_enc_cond.fit(X['condition'].values)\n",
    "\n",
    "X_train_condition = lab_enc_cond.transform(X_train['condition'].values).reshape(-1,1)\n",
    "X_test_condition = lab_enc_cond.transform(X_test['condition'].values).reshape(-1,1)\n",
    "X_cv_condition = lab_enc_cond.transform(X_cv['condition'].values).reshape(-1,1)\n",
    "\n",
    "from scipy.sparse import hstack\n",
    "X_tr_2 = hstack((X_train_num_2,X_train_sent_score,X_train_condition,X_train_year,X_train_review_bow_1)).tocsr()\n",
    "\n",
    "X_te_2 = hstack((X_test_num_2,X_test_sent_score,X_test_condition,X_test_year,X_test_review_bow_1)).tocsr()\n",
    "\n",
    "X_cv_2 = hstack((X_cv_num_2,X_cv_sent_score,X_cv_condition,X_cv_year,X_cv_review_bow_1)).tocsr()\n",
    "\n",
    "print(\"Final Data matrix\")\n",
    "print(X_tr_2.shape, y_train.shape)\n",
    "print(X_te_2.shape, y_test.shape)\n",
    "print(X_cv_2.shape, y_cv.shape)"
   ]
  },
  {
   "cell_type": "markdown",
   "metadata": {
    "id": "3bfd7e95"
   },
   "source": [
    "#### Random Forest Classifier on Set 2 Features"
   ]
  },
  {
   "cell_type": "code",
   "execution_count": null,
   "metadata": {
    "id": "f8ff363d"
   },
   "outputs": [],
   "source": [
    "param = {'n_estimators':[100,500,1000,2000,3000]}\n",
    "\n",
    "rf_clf =RandomForestClassifier(random_state=42,n_jobs=-1)\n",
    "\n",
    "random_rf = RandomizedSearchCV(rf_clf,param_distributions=param,scoring='f1',verbose=0,n_jobs=-1,cv=3)\n",
    "random_rf.fit(X_tr_2,y_train)\n",
    "\n",
    "print(random_rf.best_params_)"
   ]
  },
  {
   "cell_type": "code",
   "execution_count": null,
   "metadata": {
    "id": "425a4595"
   },
   "outputs": [],
   "source": [
    "rf_clf =RandomForestClassifier(n_estimators=3000 ,random_state=42,n_jobs=-1)\n",
    "rf_clf.fit(X_tr_2,y_train)\n",
    "sig_clf = CalibratedClassifierCV(rf_clf, method=\"sigmoid\")\n",
    "sig_clf.fit(X_tr_2, y_train)\n",
    "\n",
    "\n",
    "model_metrics(sig_clf,X_tr_2,X_te_2,X_cv_2)\n",
    "\n",
    "plot_confusion_matrix(y_test, sig_clf.predict(X_te_2))"
   ]
  },
  {
   "cell_type": "code",
   "execution_count": null,
   "metadata": {
    "id": "4b8baf51"
   },
   "outputs": [],
   "source": [
    "param = {'n_estimators':[100,500,1000,2000,3000]}\n",
    "\n",
    "x_clf =XGBClassifier(nthread=-1,eval_metric='logloss',objective='binary:logistic', random_state=0)\n",
    "\n",
    "random_xgb = RandomizedSearchCV(x_clf,param_distributions=param,scoring='f1',verbose=0,n_jobs=-1,cv=3)\n",
    "random_xgb.fit(X_tr_2,y_train)\n",
    "\n",
    "print(random_xgb.best_params_)"
   ]
  },
  {
   "cell_type": "code",
   "execution_count": null,
   "metadata": {
    "id": "b581ce91"
   },
   "outputs": [],
   "source": [
    "#https://machinelearningmastery.com/avoid-overfitting-by-early-stopping-with-xgboost-in-python/\n",
    "\n",
    "eval_set = [(X_tr_2, y_train), (X_cv_2, y_cv)]\n",
    "\n",
    "x_clf =XGBClassifier(n_estimators=3000,nthread=-1,objective='binary:logistic',random_state=0)\n",
    "x_clf.fit(X_tr_2,y_train,eval_set=eval_set,eval_metric='logloss',verbose=0)\n",
    "sig_clf = CalibratedClassifierCV(x_clf, method=\"sigmoid\")\n",
    "sig_clf.fit(X_tr_2, y_train)\n",
    "\n",
    "\n",
    "model_metrics(sig_clf,X_tr_2,X_te_2,X_cv_2)\n",
    "\n",
    "results = x_clf.evals_result()\n",
    "epochs = len(results['validation_0']['logloss'])\n",
    "x_axis = range(0, epochs)\n",
    "# plot log loss\n",
    "fig, ax = plt.subplots()\n",
    "ax.plot(x_axis, results['validation_0']['logloss'], label='Train')\n",
    "ax.plot(x_axis, results['validation_1']['logloss'], label='CV')\n",
    "ax.legend()\n",
    "plt.ylabel('Log Loss')\n",
    "plt.title('XGBoost Log Loss')\n",
    "plt.show()\n",
    "\n",
    "\n",
    "plot_confusion_matrix(y_test, sig_clf.predict(X_te_2))"
   ]
  },
  {
   "cell_type": "markdown",
   "metadata": {
    "id": "7929a729"
   },
   "source": [
    "#### HyperParameter Tuning on XGBClassifier"
   ]
  },
  {
   "cell_type": "code",
   "execution_count": null,
   "metadata": {
    "id": "814108a7"
   },
   "outputs": [],
   "source": [
    "x_cfl_2 = XGBClassifier()\n",
    "prams={\n",
    "'learning_rate':[0.01,0.03,0.05,0.1,0.15,0.2],\n",
    "'n_estimators':[100,500,1000,2000,3000],\n",
    "'max_depth':[3,5,7,10],\n",
    "'colsample_bytree':[0.1,0.3,0.5,1],\n",
    "'subsample':[0.1,0.3,0.5,1]\n",
    "}\n",
    "x_random_cfl_2 = RandomizedSearchCV(x_cfl_2,param_distributions=prams,verbose=0,n_jobs=-1,cv=3,scoring='f1')\n",
    "x_random_cfl_2.fit(X_tr_2,y_train)\n",
    "\n",
    "print(x_random_cfl_2.best_params_)"
   ]
  },
  {
   "cell_type": "markdown",
   "metadata": {
    "id": "9f698a80"
   },
   "source": [
    "#### Training XGBClassifier with best parameters"
   ]
  },
  {
   "cell_type": "code",
   "execution_count": 36,
   "metadata": {
    "id": "af23f785"
   },
   "outputs": [
    {
     "name": "stdout",
     "output_type": "stream",
     "text": [
      "**LogLoss**\n",
      "The train log loss is: 0.11819432211766616\n",
      "The cross validation log loss is: 0.2799097542289693\n",
      "The test log loss is: 0.281467631969251\n",
      "--------------------------------------------------\n",
      "**Accuracy**\n",
      "The train Accuracy is: 0.9811790968660694\n",
      "The cross validation Accuracy is: 0.8908421454390337\n",
      "The test Accuracy is: 0.8904919063334905\n",
      "--------------------------------------------------\n",
      "**F1 Score**\n",
      "The train F1 score is: 0.9866146581810716\n",
      "The cross validation F1 score is: 0.9237859359814402\n",
      "The test F1 score is: 0.9235847608185468\n",
      "--------------------------------------------------\n",
      "**AUC**\n",
      "The train AUC is: 0.9755602733504178\n",
      "The cross validation AUC is: 0.8552784580365793\n",
      "The test AUC is: 0.8544724700360167\n",
      "--------------------------------------------------\n"
     ]
    },
    {
     "data": {
      "image/png": "[encoded data removed]",
      "text/plain": [
       "<Figure size 640x480 with 1 Axes>"
      ]
     },
     "metadata": {},
     "output_type": "display_data"
    },
    {
     "ename": "NameError",
     "evalue": "name 'plot_confusion_matrix' is not defined",
     "output_type": "error",
     "traceback": [
      "\u001b[1;31m---------------------------------------------------------------------------\u001b[0m",
      "\u001b[1;31mNameError\u001b[0m                                 Traceback (most recent call last)",
      "Cell \u001b[1;32mIn[36], line 23\u001b[0m\n\u001b[0;32m     19\u001b[0m plt\u001b[38;5;241m.\u001b[39mtitle(\u001b[38;5;124m'\u001b[39m\u001b[38;5;124mXGBoost Log Loss\u001b[39m\u001b[38;5;124m'\u001b[39m)\n\u001b[0;32m     20\u001b[0m plt\u001b[38;5;241m.\u001b[39mshow()\n\u001b[1;32m---> 23\u001b[0m plot_confusion_matrix(y_test, x_sig_clf_2\u001b[38;5;241m.\u001b[39mpredict(X_te_2))\n",
      "\u001b[1;31mNameError\u001b[0m: name 'plot_confusion_matrix' is not defined"
     ]
    }
   ],
   "source": [
    "eval_set = [(X_tr_2, y_train), (X_cv_2, y_cv)]\n",
    "\n",
    "x_cfl_2=XGBClassifier(n_estimators=1000,subsample=1,max_depth=10,learning_rate=0.1,colsample_bytree=0.1,nthread=-1,objective='binary:logistic', random_state=0)\n",
    "x_cfl_2.fit(X_tr_2,y_train,eval_set=eval_set,eval_metric='logloss',verbose=0,early_stopping_rounds=20)\n",
    "x_sig_clf_2 = CalibratedClassifierCV(x_cfl_2, method=\"sigmoid\")\n",
    "x_sig_clf_2.fit(X_tr_2, y_train)\n",
    "\n",
    "model_metrics(x_sig_clf_2,X_tr_2,X_te_2,X_cv_2)\n",
    "\n",
    "results = x_cfl_2.evals_result()\n",
    "epochs = len(results['validation_0']['logloss'])\n",
    "x_axis = range(0, epochs)\n",
    "# plot log loss\n",
    "fig, ax = plt.subplots()\n",
    "ax.plot(x_axis, results['validation_0']['logloss'], label='Train')\n",
    "ax.plot(x_axis, results['validation_1']['logloss'], label='CV')\n",
    "ax.legend()\n",
    "plt.ylabel('Log Loss')\n",
    "plt.title('XGBoost Log Loss')\n",
    "plt.show()\n",
    "\n",
    "\n",
    "plot_confusion_matrix(y_test, x_sig_clf_2.predict(X_te_2))"
   ]
  },
  {
   "cell_type": "code",
   "execution_count": 37,
   "metadata": {
    "id": "1f85c241"
   },
   "outputs": [
    {
     "name": "stdout",
     "output_type": "stream",
     "text": [
      "BoW Model saved..\n"
     ]
    },
    {
     "data": {
      "text/plain": [
       "['../BDS_project/Bow_model.pkl']"
      ]
     },
     "execution_count": 37,
     "metadata": {},
     "output_type": "execute_result"
    }
   ],
   "source": [
    "import joblib\n",
    "print('BoW Model saved..')\n",
    "joblib.dump(x_sig_clf_2, '../BDS_project/Bow_model.pkl')"
   ]
  },
  {
   "cell_type": "markdown",
   "metadata": {
    "id": "c2b2ac82"
   },
   "source": [
    "<b>Observations:\n",
    "- The XGB classifier with hyper parameter tuning gives log loss of 0.278 and F1 score of 0.925  for set 2 features\n",
    "- For Bow representation, this model is saved."
   ]
  },
  {
   "cell_type": "code",
   "execution_count": 38,
   "metadata": {},
   "outputs": [
    {
     "name": "stdout",
     "output_type": "stream",
     "text": [
      "hello\n"
     ]
    }
   ],
   "source": [
    "print('hello')"
   ]
  },
  {
   "cell_type": "markdown",
   "metadata": {
    "id": "38d7c80c"
   },
   "source": [
    "### Set -3 Extracted Features + Sentiment Scores + Reviews TF-IDF (uni-gram) vectors"
   ]
  },
  {
   "cell_type": "code",
   "execution_count": 39,
   "metadata": {},
   "outputs": [
    {
     "name": "stdout",
     "output_type": "stream",
     "text": [
      "After Vectorization\n",
      "Train data shape: (103927, 7309)\n",
      "Test data shape: (63630, 7309)\n",
      "CV data shape: (44541, 7309)\n"
     ]
    }
   ],
   "source": [
    "vect_tfidf_1 = joblib.load('../BDS_project/vectorizer_tfidf.pkl')\n",
    "\n",
    "\n",
    "X_train_review_tfidf_1 = vect_tfidf_1.transform(X_train['cleaned_review'].values)\n",
    "X_test_review_tfidf_1 = vect_tfidf_1.transform(X_test['cleaned_review'].values)\n",
    "X_cv_review_tfidf_1 = vect_tfidf_1.transform(X_cv['cleaned_review'].values)\n",
    "\n",
    "print('After Vectorization')\n",
    "print('Train data shape:',X_train_review_tfidf_1.shape)\n",
    "print('Test data shape:',X_test_review_tfidf_1.shape)\n",
    "print('CV data shape:',X_cv_review_tfidf_1.shape)"
   ]
  },
  {
   "cell_type": "code",
   "execution_count": 40,
   "metadata": {
    "id": "06bd3018"
   },
   "outputs": [
    {
     "name": "stdout",
     "output_type": "stream",
     "text": [
      "Final Data matrix\n",
      "(103927, 7340) (103927,)\n",
      "(63630, 7340) (63630,)\n",
      "(44541, 7340) (44541,)\n"
     ]
    }
   ],
   "source": [
    "#concatenating all encoded features for set 3\n",
    "\n",
    "from scipy.sparse import hstack\n",
    "X_tr_3 = hstack((X_train_num_2,X_train_sent_score,X_train_condition,X_train_year,X_train_review_tfidf_1)).tocsr()\n",
    "\n",
    "X_te_3 = hstack((X_test_num_2,X_test_sent_score,X_test_condition,X_test_year,X_test_review_tfidf_1)).tocsr()\n",
    "\n",
    "X_cv_3 = hstack((X_cv_num_2,X_cv_sent_score,X_cv_condition,X_cv_year,X_cv_review_tfidf_1)).tocsr()\n",
    "\n",
    "print(\"Final Data matrix\")\n",
    "print(X_tr_3.shape, y_train.shape)\n",
    "print(X_te_3.shape, y_test.shape)\n",
    "print(X_cv_3.shape, y_cv.shape)\n",
    "\n"
   ]
  },
  {
   "cell_type": "markdown",
   "metadata": {
    "id": "10f6cb77"
   },
   "source": [
    "#### XGB Classifier on Set 3 Features"
   ]
  },
  {
   "cell_type": "code",
   "execution_count": null,
   "metadata": {
    "id": "62031361"
   },
   "outputs": [],
   "source": [
    "param = {'n_estimators':[100,500,1000,2000,3000]}\n",
    "\n",
    "x_clf =XGBClassifier(nthread=-1,eval_metric='logloss',objective='binary:logistic', random_state=0)\n",
    "\n",
    "random_xgb = RandomizedSearchCV(x_clf,param_distributions=param,scoring='f1',verbose=0,n_jobs=-1,cv=3)\n",
    "random_xgb.fit(X_tr_3,y_train)\n",
    "\n",
    "print(random_xgb.best_params_)"
   ]
  },
  {
   "cell_type": "code",
   "execution_count": null,
   "metadata": {
    "id": "92a2c646"
   },
   "outputs": [],
   "source": [
    "#https://machinelearningmastery.com/avoid-overfitting-by-early-stopping-with-xgboost-in-python/\n",
    "\n",
    "eval_set = [(X_tr_3, y_train), (X_cv_3, y_cv)]\n",
    "\n",
    "x_clf =XGBClassifier(n_estimators=3000,nthread=-1,objective='binary:logistic',random_state=0)\n",
    "x_clf.fit(X_tr_3,y_train,eval_set=eval_set,eval_metric='logloss',verbose=0)\n",
    "sig_clf = CalibratedClassifierCV(x_clf, method=\"sigmoid\")\n",
    "sig_clf.fit(X_tr_3, y_train)\n",
    "\n",
    "\n",
    "model_metrics(sig_clf,X_tr_3,X_te_3,X_cv_3)\n",
    "\n",
    "results = x_clf.evals_result()\n",
    "epochs = len(results['validation_0']['logloss'])\n",
    "x_axis = range(0, epochs)\n",
    "# plot log loss\n",
    "fig, ax = plt.subplots()\n",
    "ax.plot(x_axis, results['validation_0']['logloss'], label='Train')\n",
    "ax.plot(x_axis, results['validation_1']['logloss'], label='CV')\n",
    "ax.legend()\n",
    "plt.ylabel('Log Loss')\n",
    "plt.title('XGBoost Log Loss')\n",
    "plt.show()\n",
    "\n",
    "\n",
    "plot_confusion_matrix(y_test, sig_clf.predict(X_te_3))"
   ]
  },
  {
   "cell_type": "markdown",
   "metadata": {
    "id": "c4fc2dff"
   },
   "source": [
    "#### Hyperparameter Tuning for XGB Classifier  "
   ]
  },
  {
   "cell_type": "code",
   "execution_count": null,
   "metadata": {
    "id": "e68dd469"
   },
   "outputs": [],
   "source": [
    "x_cfl_3 = XGBClassifier()\n",
    "prams={\n",
    "'learning_rate':[0.01,0.03,0.05,0.1,0.15,0.2],\n",
    "'n_estimators':[100,500,1000,2000,3000],\n",
    "'max_depth':[3,5,7,10],\n",
    "'colsample_bytree':[0.1,0.3,0.5,1],\n",
    "'subsample':[0.1,0.3,0.5,1]\n",
    "}\n",
    "x_random_cfl_3 = RandomizedSearchCV(x_cfl_3,param_distributions=prams,verbose=0,n_jobs=-1,cv=3,scoring='f1')\n",
    "x_random_cfl_3.fit(X_tr_3,y_train)\n",
    "\n",
    "print(x_random_cfl_3.best_params_)"
   ]
  },
  {
   "cell_type": "markdown",
   "metadata": {
    "id": "7d526cf3"
   },
   "source": [
    "#### Training the XGB Classifier with best parameters"
   ]
  },
  {
   "cell_type": "code",
   "execution_count": 41,
   "metadata": {
    "id": "6cf3671e"
   },
   "outputs": [
    {
     "name": "stdout",
     "output_type": "stream",
     "text": [
      "**LogLoss**\n",
      "The train log loss is: 0.14024900582542763\n",
      "The cross validation log loss is: 0.2928779370928213\n",
      "The test log loss is: 0.29542716042382683\n",
      "--------------------------------------------------\n",
      "**Accuracy**\n",
      "The train Accuracy is: 0.9706139886651207\n",
      "The cross validation Accuracy is: 0.8839047170023124\n",
      "The test Accuracy is: 0.8834669181203835\n",
      "--------------------------------------------------\n",
      "**F1 Score**\n",
      "The train F1 score is: 0.9791615491689183\n",
      "The cross validation F1 score is: 0.9190475444995851\n",
      "The test F1 score is: 0.9187423975102189\n",
      "--------------------------------------------------\n",
      "**AUC**\n",
      "The train AUC is: 0.96099465709564\n",
      "The cross validation AUC is: 0.8461109268628019\n",
      "The test AUC is: 0.8455890077303999\n",
      "--------------------------------------------------\n"
     ]
    },
    {
     "data": {
      "image/png": "[encoded data removed]",
      "text/plain": [
       "<Figure size 640x480 with 1 Axes>"
      ]
     },
     "metadata": {},
     "output_type": "display_data"
    },
    {
     "ename": "NameError",
     "evalue": "name 'plot_confusion_matrix' is not defined",
     "output_type": "error",
     "traceback": [
      "\u001b[1;31m---------------------------------------------------------------------------\u001b[0m",
      "\u001b[1;31mNameError\u001b[0m                                 Traceback (most recent call last)",
      "Cell \u001b[1;32mIn[41], line 23\u001b[0m\n\u001b[0;32m     19\u001b[0m plt\u001b[38;5;241m.\u001b[39mtitle(\u001b[38;5;124m'\u001b[39m\u001b[38;5;124mXGBoost Log Loss\u001b[39m\u001b[38;5;124m'\u001b[39m)\n\u001b[0;32m     20\u001b[0m plt\u001b[38;5;241m.\u001b[39mshow()\n\u001b[1;32m---> 23\u001b[0m plot_confusion_matrix(y_test, x_sig_clf_3\u001b[38;5;241m.\u001b[39mpredict(X_te_3))\n",
      "\u001b[1;31mNameError\u001b[0m: name 'plot_confusion_matrix' is not defined"
     ]
    }
   ],
   "source": [
    "eval_set = [(X_tr_3, y_train), (X_cv_3, y_cv)]\n",
    "\n",
    "x_cfl_3=XGBClassifier(n_estimators=3000,subsample=0.3,max_depth=7,learning_rate=0.05,colsample_bytree=1,nthread=-1,objective='binary:logistic', random_state=0)\n",
    "x_cfl_3.fit(X_tr_3,y_train,eval_set=eval_set,eval_metric='logloss',verbose=0,early_stopping_rounds=30)\n",
    "x_sig_clf_3 = CalibratedClassifierCV(x_cfl_3, method=\"sigmoid\")\n",
    "x_sig_clf_3.fit(X_tr_3, y_train)\n",
    "\n",
    "model_metrics(x_sig_clf_3,X_tr_3,X_te_3,X_cv_3)\n",
    "\n",
    "results = x_cfl_3.evals_result()\n",
    "epochs = len(results['validation_0']['logloss'])\n",
    "x_axis = range(0, epochs)\n",
    "# plot log loss\n",
    "fig, ax = plt.subplots()\n",
    "ax.plot(x_axis, results['validation_0']['logloss'], label='Train')\n",
    "ax.plot(x_axis, results['validation_1']['logloss'], label='CV')\n",
    "ax.legend()\n",
    "plt.ylabel('Log Loss')\n",
    "plt.title('XGBoost Log Loss')\n",
    "plt.show()\n",
    "\n",
    "\n",
    "plot_confusion_matrix(y_test, x_sig_clf_3.predict(X_te_3))"
   ]
  },
  {
   "cell_type": "code",
   "execution_count": null,
   "metadata": {
    "id": "78497faa"
   },
   "outputs": [],
   "source": [
    "print('TF-IDF Model saved..')\n",
    "joblib.dump(x_sig_clf_3, '../BDS_project/tfidf_model.pkl')\n"
   ]
  },
  {
   "cell_type": "markdown",
   "metadata": {
    "id": "c9e28ff2"
   },
   "source": [
    "<b> Observations:\n",
    "- The XGB Classifier with hyper parameter tuning performs well on Set 3 Features with log loss of 0.293 and F1 score of 0.9190\n",
    "- This model is saved for Set 3 Features"
   ]
  },
  {
   "cell_type": "markdown",
   "metadata": {
    "id": "abcee46e"
   },
   "source": [
    "### Set -4 Extracted Features + Sentiment Scores + Reviews BoW (n-gram) vectors"
   ]
  },
  {
   "cell_type": "markdown",
   "metadata": {
    "id": "44cc98d0"
   },
   "source": [
    "- Based on onbservation of some words like 'absolut no side effect', 'no side effect', 'almost no side effect', 'great no pain'. Considering the 2,3,4 grams and vocabulary as words with only no exists in it."
   ]
  },
  {
   "cell_type": "code",
   "execution_count": 12,
   "metadata": {
    "id": "8cedaf1f"
   },
   "outputs": [
    {
     "data": {
      "text/html": [
       "<style>#sk-container-id-1 {color: black;background-color: white;}#sk-container-id-1 pre{padding: 0;}#sk-container-id-1 div.sk-toggleable {background-color: white;}#sk-container-id-1 label.sk-toggleable__label {cursor: pointer;display: block;width: 100%;margin-bottom: 0;padding: 0.3em;box-sizing: border-box;text-align: center;}#sk-container-id-1 label.sk-toggleable__label-arrow:before {content: \"▸\";float: left;margin-right: 0.25em;color: #696969;}#sk-container-id-1 label.sk-toggleable__label-arrow:hover:before {color: black;}#sk-container-id-1 div.sk-estimator:hover label.sk-toggleable__label-arrow:before {color: black;}#sk-container-id-1 div.sk-toggleable__content {max-height: 0;max-width: 0;overflow: hidden;text-align: left;background-color: #f0f8ff;}#sk-container-id-1 div.sk-toggleable__content pre {margin: 0.2em;color: black;border-radius: 0.25em;background-color: #f0f8ff;}#sk-container-id-1 input.sk-toggleable__control:checked~div.sk-toggleable__content {max-height: 200px;max-width: 100%;overflow: auto;}#sk-container-id-1 input.sk-toggleable__control:checked~label.sk-toggleable__label-arrow:before {content: \"▾\";}#sk-container-id-1 div.sk-estimator input.sk-toggleable__control:checked~label.sk-toggleable__label {background-color: #d4ebff;}#sk-container-id-1 div.sk-label input.sk-toggleable__control:checked~label.sk-toggleable__label {background-color: #d4ebff;}#sk-container-id-1 input.sk-hidden--visually {border: 0;clip: rect(1px 1px 1px 1px);clip: rect(1px, 1px, 1px, 1px);height: 1px;margin: -1px;overflow: hidden;padding: 0;position: absolute;width: 1px;}#sk-container-id-1 div.sk-estimator {font-family: monospace;background-color: #f0f8ff;border: 1px dotted black;border-radius: 0.25em;box-sizing: border-box;margin-bottom: 0.5em;}#sk-container-id-1 div.sk-estimator:hover {background-color: #d4ebff;}#sk-container-id-1 div.sk-parallel-item::after {content: \"\";width: 100%;border-bottom: 1px solid gray;flex-grow: 1;}#sk-container-id-1 div.sk-label:hover label.sk-toggleable__label {background-color: #d4ebff;}#sk-container-id-1 div.sk-serial::before {content: \"\";position: absolute;border-left: 1px solid gray;box-sizing: border-box;top: 0;bottom: 0;left: 50%;z-index: 0;}#sk-container-id-1 div.sk-serial {display: flex;flex-direction: column;align-items: center;background-color: white;padding-right: 0.2em;padding-left: 0.2em;position: relative;}#sk-container-id-1 div.sk-item {position: relative;z-index: 1;}#sk-container-id-1 div.sk-parallel {display: flex;align-items: stretch;justify-content: center;background-color: white;position: relative;}#sk-container-id-1 div.sk-item::before, #sk-container-id-1 div.sk-parallel-item::before {content: \"\";position: absolute;border-left: 1px solid gray;box-sizing: border-box;top: 0;bottom: 0;left: 50%;z-index: -1;}#sk-container-id-1 div.sk-parallel-item {display: flex;flex-direction: column;z-index: 1;position: relative;background-color: white;}#sk-container-id-1 div.sk-parallel-item:first-child::after {align-self: flex-end;width: 50%;}#sk-container-id-1 div.sk-parallel-item:last-child::after {align-self: flex-start;width: 50%;}#sk-container-id-1 div.sk-parallel-item:only-child::after {width: 0;}#sk-container-id-1 div.sk-dashed-wrapped {border: 1px dashed gray;margin: 0 0.4em 0.5em 0.4em;box-sizing: border-box;padding-bottom: 0.4em;background-color: white;}#sk-container-id-1 div.sk-label label {font-family: monospace;font-weight: bold;display: inline-block;line-height: 1.2em;}#sk-container-id-1 div.sk-label-container {text-align: center;}#sk-container-id-1 div.sk-container {/* jupyter's `normalize.less` sets `[hidden] { display: none; }` but bootstrap.min.css set `[hidden] { display: none !important; }` so we also need the `!important` here to be able to override the default hidden behavior on the sphinx rendered scikit-learn.org. See: https://github.com/scikit-learn/scikit-learn/issues/21755 */display: inline-block !important;position: relative;}#sk-container-id-1 div.sk-text-repr-fallback {display: none;}</style><div id=\"sk-container-id-1\" class=\"sk-top-container\"><div class=\"sk-text-repr-fallback\"><pre>CountVectorizer(min_df=10, ngram_range=(2, 4))</pre><b>In a Jupyter environment, please rerun this cell to show the HTML representation or trust the notebook. <br />On GitHub, the HTML representation is unable to render, please try loading this page with nbviewer.org.</b></div><div class=\"sk-container\" hidden><div class=\"sk-item\"><div class=\"sk-estimator sk-toggleable\"><input class=\"sk-toggleable__control sk-hidden--visually\" id=\"sk-estimator-id-1\" type=\"checkbox\" checked><label for=\"sk-estimator-id-1\" class=\"sk-toggleable__label sk-toggleable__label-arrow\">CountVectorizer</label><div class=\"sk-toggleable__content\"><pre>CountVectorizer(min_df=10, ngram_range=(2, 4))</pre></div></div></div></div></div>"
      ],
      "text/plain": [
       "CountVectorizer(min_df=10, ngram_range=(2, 4))"
      ]
     },
     "execution_count": 12,
     "metadata": {},
     "output_type": "execute_result"
    }
   ],
   "source": [
    "ngram_vec_bow = CountVectorizer(min_df=10,ngram_range=(2,4))\n",
    "ngram_vec_bow.fit(X_train['cleaned_review'].values)"
   ]
  },
  {
   "cell_type": "code",
   "execution_count": 13,
   "metadata": {
    "id": "ad541b3f"
   },
   "outputs": [
    {
     "name": "stdout",
     "output_type": "stream",
     "text": [
      "The Vocab size with only \"no\" in words is 2283\n",
      "--------------------------------------------------\n",
      "New vectorizer vocab size: 2283\n",
      "Saving the new vectorizer with above selected vocabulary..\n"
     ]
    },
    {
     "data": {
      "text/plain": [
       "['../BDS_project/ngram_vec_bow.pkl']"
      ]
     },
     "execution_count": 13,
     "metadata": {},
     "output_type": "execute_result"
    }
   ],
   "source": [
    "# Selecting the ngrams if only 'no' exists in it.\n",
    "\n",
    "vocab = []\n",
    "for i in ngram_vec_bow.get_feature_names_out():\n",
    "    if 'no' in i.split(' '):\n",
    "        vocab.append(i)\n",
    "print('The Vocab size with only \"no\" in words is',len(vocab))\n",
    "print(50*'-')\n",
    "ngram_vec_bow = CountVectorizer(ngram_range=(2,4),vocabulary=vocab)\n",
    "print('New vectorizer vocab size:',ngram_vec_bow.get_feature_names_out().shape[0])\n",
    "print('Saving the new vectorizer with above selected vocabulary..')\n",
    "joblib.dump(ngram_vec_bow,'../BDS_project/ngram_vec_bow.pkl')"
   ]
  },
  {
   "cell_type": "code",
   "execution_count": 19,
   "metadata": {
    "id": "71b8c4cb"
   },
   "outputs": [
    {
     "name": "stdout",
     "output_type": "stream",
     "text": [
      "After Vectorization\n",
      "Train data shape: (103927, 2283)\n",
      "Test data shape: (63630, 2283)\n",
      "CV data shape: (44541, 2283)\n"
     ]
    }
   ],
   "source": [
    "vec_bow = joblib.load('../BDS_project/ngram_vec_bow.pkl')\n",
    "\n",
    "X_train_review_bow_ngram = vec_bow.transform(X_train['cleaned_review'].values)\n",
    "X_test_review_bow_ngram = vec_bow.transform(X_test['cleaned_review'].values)\n",
    "X_cv_review_bow_ngram = vec_bow.transform(X_cv['cleaned_review'].values)\n",
    "\n",
    "\n",
    "print('After Vectorization')\n",
    "print('Train data shape:',X_train_review_bow_ngram.shape)\n",
    "print('Test data shape:',X_test_review_bow_ngram.shape)\n",
    "print('CV data shape:',X_cv_review_bow_ngram.shape)"
   ]
  },
  {
   "cell_type": "code",
   "execution_count": 24,
   "metadata": {
    "id": "effe0338"
   },
   "outputs": [
    {
     "name": "stdout",
     "output_type": "stream",
     "text": [
      "Final Data matrix\n",
      "(103927, 2314) (103927,)\n",
      "(63630, 2314) (63630,)\n",
      "(44541, 2314) (44541,)\n"
     ]
    }
   ],
   "source": [
    "#concatenating all encoded features for set 4\n",
    "\n",
    "from scipy.sparse import hstack\n",
    "X_tr_4 = hstack((X_train_num_2,X_train_sent_score,X_train_condition,X_train_year,X_train_review_bow_ngram)).tocsr()\n",
    "\n",
    "X_te_4 = hstack((X_test_num_2,X_test_sent_score,X_test_condition,X_test_year,X_test_review_bow_ngram)).tocsr()\n",
    "\n",
    "X_cv_4 = hstack((X_cv_num_2,X_cv_sent_score,X_cv_condition,X_cv_year,X_cv_review_bow_ngram)).tocsr()\n",
    "\n",
    "print(\"Final Data matrix\")\n",
    "print(X_tr_4.shape, y_train.shape)\n",
    "print(X_te_4.shape, y_test.shape)\n",
    "print(X_cv_4.shape, y_cv.shape)\n"
   ]
  },
  {
   "cell_type": "markdown",
   "metadata": {
    "id": "c8ee7fa1"
   },
   "source": [
    "#### XGB Classifier on Set 4 Features"
   ]
  },
  {
   "cell_type": "code",
   "execution_count": null,
   "metadata": {
    "id": "d8ea49aa"
   },
   "outputs": [],
   "source": [
    "param = {'n_estimators':[100,500,1000,2000,3000]}\n",
    "\n",
    "x_clf =XGBClassifier(nthread=-1,eval_metric='logloss',objective='binary:logistic', random_state=0)\n",
    "\n",
    "random_xgb = RandomizedSearchCV(x_clf,param_distributions=param,scoring='f1',verbose=0,n_jobs=-1,cv=3)\n",
    "random_xgb.fit(X_tr_4,y_train)\n",
    "\n",
    "print(random_xgb.best_params_)"
   ]
  },
  {
   "cell_type": "code",
   "execution_count": null,
   "metadata": {
    "id": "65c20bcf"
   },
   "outputs": [],
   "source": [
    "#https://machinelearningmastery.com/avoid-overfitting-by-early-stopping-with-xgboost-in-python/\n",
    "\n",
    "eval_set = [(X_tr_4, y_train), (X_cv_4, y_cv)]\n",
    "\n",
    "x_clf =XGBClassifier(n_estimators=2000,nthread=-1,objective='binary:logistic',random_state=0)\n",
    "x_clf.fit(X_tr_4,y_train,eval_set=eval_set,eval_metric='logloss',verbose=0)\n",
    "sig_clf = CalibratedClassifierCV(x_clf, method=\"sigmoid\")\n",
    "sig_clf.fit(X_tr_4, y_train)\n",
    "\n",
    "\n",
    "model_metrics(sig_clf,X_tr_4,X_te_4,X_cv_4)\n",
    "\n",
    "results = x_clf.evals_result()\n",
    "epochs = len(results['validation_0']['logloss'])\n",
    "x_axis = range(0, epochs)\n",
    "# plot log loss\n",
    "fig, ax = plt.subplots()\n",
    "ax.plot(x_axis, results['validation_0']['logloss'], label='Train')\n",
    "ax.plot(x_axis, results['validation_1']['logloss'], label='CV')\n",
    "ax.legend()\n",
    "plt.ylabel('Log Loss')\n",
    "plt.title('XGBoost Log Loss')\n",
    "plt.show()\n",
    "\n",
    "\n",
    "plot_confusion_matrix(y_test, sig_clf.predict(X_te_4))"
   ]
  },
  {
   "cell_type": "markdown",
   "metadata": {
    "id": "0ca611e3"
   },
   "source": [
    "#### Hyperparameter Tuning for XGB Classifier  "
   ]
  },
  {
   "cell_type": "code",
   "execution_count": null,
   "metadata": {
    "id": "69eaf27e"
   },
   "outputs": [],
   "source": [
    "x_cfl_4 = XGBClassifier()\n",
    "prams={\n",
    "'learning_rate':[0.01,0.03,0.05,0.1,0.15,0.2],\n",
    "'n_estimators':[100,500,1000,2000,3000],\n",
    "'max_depth':[3,5,7,10],\n",
    "'colsample_bytree':[0.1,0.3,0.5,1],\n",
    "'subsample':[0.1,0.3,0.5,1]\n",
    "}\n",
    "x_random_cfl_4 = RandomizedSearchCV(x_cfl_4,param_distributions=prams,verbose=0,n_jobs=-1,cv=3,scoring='f1')\n",
    "x_random_cfl_4.fit(X_tr_4,y_train)\n",
    "\n",
    "print(x_random_cfl_4.best_params_)"
   ]
  },
  {
   "cell_type": "code",
   "execution_count": 25,
   "metadata": {
    "id": "f04f89bc"
   },
   "outputs": [
    {
     "name": "stdout",
     "output_type": "stream",
     "text": [
      "**LogLoss**\n",
      "The train log loss is: 0.12489477769949417\n",
      "The cross validation log loss is: 0.3426842884493823\n",
      "The test log loss is: 0.34468729884070365\n",
      "--------------------------------------------------\n",
      "**Accuracy**\n",
      "The train Accuracy is: 0.9985759234847538\n",
      "The cross validation Accuracy is: 0.8672459082642958\n",
      "The test Accuracy is: 0.8678139242495678\n",
      "--------------------------------------------------\n",
      "**F1 Score**\n",
      "The train F1 score is: 0.9989846322722282\n",
      "The cross validation F1 score is: 0.9079989419800533\n",
      "The test F1 score is: 0.9083159833876542\n",
      "--------------------------------------------------\n",
      "**AUC**\n",
      "The train AUC is: 0.9980155710799345\n",
      "The cross validation AUC is: 0.8220015080204559\n",
      "The test AUC is: 0.8232581268191497\n",
      "--------------------------------------------------\n"
     ]
    },
    {
     "data": {
      "image/png": "[encoded data removed]",
      "text/plain": [
       "<Figure size 640x480 with 1 Axes>"
      ]
     },
     "metadata": {},
     "output_type": "display_data"
    },
    {
     "name": "stdout",
     "output_type": "stream",
     "text": [
      "Number of misclassified points  13.218607575043217\n"
     ]
    },
    {
     "data": {
      "image/png": "[encoded data removed]",
      "text/plain": [
       "<Figure size 2000x400 with 6 Axes>"
      ]
     },
     "metadata": {},
     "output_type": "display_data"
    }
   ],
   "source": [
    "eval_set = [(X_tr_4, y_train), (X_cv_4, y_cv)]\n",
    "\n",
    "x_cfl_4=XGBClassifier(n_estimators=3000,subsample=0.5,max_depth=10,learning_rate=0.03,colsample_bytree=0.3,nthread=-1,objective='binary:logistic', random_state=0)\n",
    "x_cfl_4.fit(X_tr_4,y_train,eval_set=eval_set,eval_metric='logloss',verbose=0,early_stopping_rounds=30)\n",
    "x_sig_clf_4 = CalibratedClassifierCV(x_cfl_4, method=\"sigmoid\")\n",
    "x_sig_clf_4.fit(X_tr_4, y_train)\n",
    "\n",
    "model_metrics(x_sig_clf_4,X_tr_4,X_te_4,X_cv_4)\n",
    "\n",
    "results = x_cfl_4.evals_result()\n",
    "epochs = len(results['validation_0']['logloss'])\n",
    "x_axis = range(0, epochs)\n",
    "# plot log loss\n",
    "fig, ax = plt.subplots()\n",
    "ax.plot(x_axis, results['validation_0']['logloss'], label='Train')\n",
    "ax.plot(x_axis, results['validation_1']['logloss'], label='CV')\n",
    "ax.legend()\n",
    "plt.ylabel('Log Loss')\n",
    "plt.title('XGBoost Log Loss')\n",
    "plt.show()\n",
    "\n",
    "\n",
    "plot_confusion_matrix(y_test, x_sig_clf_4.predict(X_te_4))"
   ]
  },
  {
   "cell_type": "code",
   "execution_count": 26,
   "metadata": {
    "id": "908982b2"
   },
   "outputs": [
    {
     "name": "stdout",
     "output_type": "stream",
     "text": [
      "Ngram Bow Model saved\n"
     ]
    },
    {
     "data": {
      "text/plain": [
       "['../BDS_project/ngram_bow_model.pkl']"
      ]
     },
     "execution_count": 26,
     "metadata": {},
     "output_type": "execute_result"
    }
   ],
   "source": [
    "print('Ngram Bow Model saved')\n",
    "joblib.dump(x_sig_clf_4,'../BDS_project/ngram_bow_model.pkl')"
   ]
  },
  {
   "cell_type": "markdown",
   "metadata": {
    "id": "f5d4b95f"
   },
   "source": [
    "### Set -5 Extracted Features + Sentiment Scores + Reviews TF-IDF (ngram) vectors"
   ]
  },
  {
   "cell_type": "code",
   "execution_count": 27,
   "metadata": {
    "id": "91426b39"
   },
   "outputs": [
    {
     "name": "stdout",
     "output_type": "stream",
     "text": [
      "New vectorizer vocab size: 2283\n",
      "Saving the new vectorizer with above selected vocabulary..\n"
     ]
    },
    {
     "data": {
      "text/plain": [
       "['../BDS_project/datangram_vec_tfidf.pkl']"
      ]
     },
     "execution_count": 27,
     "metadata": {},
     "output_type": "execute_result"
    }
   ],
   "source": [
    "# selecting only 2,3,4 grams to vectorize using tfidf vectorizer.\n",
    "\n",
    "ngram_vec_tfidf = TfidfVectorizer(ngram_range=(2,4),vocabulary=vocab)\n",
    "ngram_vec_tfidf.fit(vocab)\n",
    "print('New vectorizer vocab size:',ngram_vec_tfidf.get_feature_names_out().shape[0])\n",
    "print('Saving the new vectorizer with above selected vocabulary..')\n",
    "joblib.dump(ngram_vec_tfidf,'../BDS_project/datangram_vec_tfidf.pkl')"
   ]
  },
  {
   "cell_type": "code",
   "execution_count": 29,
   "metadata": {
    "id": "49227fa8"
   },
   "outputs": [
    {
     "name": "stdout",
     "output_type": "stream",
     "text": [
      "After Vectorization\n",
      "Train data shape: (103927, 2283)\n",
      "Test data shape: (63630, 2283)\n",
      "CV data shape: (44541, 2283)\n"
     ]
    }
   ],
   "source": [
    "vec_tfidf = joblib.load('../BDS_project/datangram_vec_tfidf.pkl')\n",
    "\n",
    "X_train_review_tfidf_ngram = vec_tfidf.transform(X_train['cleaned_review'].values)\n",
    "X_test_review_tfidf_ngram = vec_tfidf.transform(X_test['cleaned_review'].values)\n",
    "X_cv_review_tfidf_ngram = vec_tfidf.transform(X_cv['cleaned_review'].values)\n",
    "\n",
    "\n",
    "print('After Vectorization')\n",
    "print('Train data shape:',X_train_review_tfidf_ngram.shape)\n",
    "print('Test data shape:',X_test_review_tfidf_ngram.shape)\n",
    "print('CV data shape:',X_cv_review_tfidf_ngram.shape)"
   ]
  },
  {
   "cell_type": "code",
   "execution_count": 30,
   "metadata": {
    "id": "9691d8a1"
   },
   "outputs": [
    {
     "name": "stdout",
     "output_type": "stream",
     "text": [
      "Final Data matrix\n",
      "(103927, 2314) (103927,)\n",
      "(63630, 2314) (63630,)\n",
      "(44541, 2314) (44541,)\n"
     ]
    }
   ],
   "source": [
    "#concatenating all encoded features for set 5\n",
    "from scipy.sparse import hstack\n",
    "X_tr_5 = hstack((X_train_num_2,X_train_sent_score,X_train_condition,X_train_year,X_train_review_tfidf_ngram)).tocsr()\n",
    "\n",
    "X_te_5 = hstack((X_test_num_2,X_test_sent_score,X_test_condition,X_test_year,X_test_review_tfidf_ngram)).tocsr()\n",
    "\n",
    "X_cv_5 = hstack((X_cv_num_2,X_cv_sent_score,X_cv_condition,X_cv_year,X_cv_review_tfidf_ngram)).tocsr()\n",
    "\n",
    "print(\"Final Data matrix\")\n",
    "print(X_tr_5.shape, y_train.shape)\n",
    "print(X_te_5.shape, y_test.shape)\n",
    "print(X_cv_5.shape, y_cv.shape)\n"
   ]
  },
  {
   "cell_type": "markdown",
   "metadata": {
    "id": "5b892855"
   },
   "source": [
    "#### XGB Classifier on Set 5 Features"
   ]
  },
  {
   "cell_type": "code",
   "execution_count": null,
   "metadata": {
    "id": "aeb397c0"
   },
   "outputs": [],
   "source": [
    "param = {'n_estimators':[100,500,1000,2000,3000]}\n",
    "\n",
    "x_clf =XGBClassifier(nthread=-1,eval_metric='logloss',objective='binary:logistic', random_state=0)\n",
    "\n",
    "random_xgb = RandomizedSearchCV(x_clf,param_distributions=param,scoring='f1',verbose=0,n_jobs=-1,cv=3)\n",
    "random_xgb.fit(X_tr_5,y_train)\n",
    "\n",
    "print(random_xgb.best_params_)"
   ]
  },
  {
   "cell_type": "code",
   "execution_count": null,
   "metadata": {
    "id": "db424c38"
   },
   "outputs": [],
   "source": [
    "#https://machinelearningmastery.com/avoid-overfitting-by-early-stopping-with-xgboost-in-python/\n",
    "\n",
    "eval_set = [(X_tr_5, y_train), (X_cv_5, y_cv)]\n",
    "\n",
    "x_clf =XGBClassifier(n_estimators=3000,nthread=-1,objective='binary:logistic',random_state=0)\n",
    "x_clf.fit(X_tr_5,y_train,eval_set=eval_set,eval_metric='logloss',verbose=0)\n",
    "sig_clf = CalibratedClassifierCV(x_clf, method=\"sigmoid\")\n",
    "sig_clf.fit(X_tr_5, y_train)\n",
    "\n",
    "\n",
    "model_metrics(sig_clf,X_tr_5,X_te_5,X_cv_5)\n",
    "\n",
    "results = x_clf.evals_result()\n",
    "epochs = len(results['validation_0']['logloss'])\n",
    "x_axis = range(0, epochs)\n",
    "# plot log loss\n",
    "fig, ax = plt.subplots()\n",
    "ax.plot(x_axis, results['validation_0']['logloss'], label='Train')\n",
    "ax.plot(x_axis, results['validation_1']['logloss'], label='CV')\n",
    "ax.legend()\n",
    "plt.ylabel('Log Loss')\n",
    "plt.title('XGBoost Log Loss')\n",
    "plt.show()\n",
    "\n",
    "\n",
    "plot_confusion_matrix(y_test, sig_clf.predict(X_te_5))"
   ]
  },
  {
   "cell_type": "markdown",
   "metadata": {
    "id": "6aaf6212"
   },
   "source": [
    "#### Hyperparameter Tuning for XGB Classifier  "
   ]
  },
  {
   "cell_type": "code",
   "execution_count": null,
   "metadata": {
    "id": "18f32e82"
   },
   "outputs": [],
   "source": [
    "x_cfl_5 = XGBClassifier()\n",
    "prams={\n",
    "'learning_rate':[0.01,0.03,0.05,0.1,0.15,0.2],\n",
    "'n_estimators':[100,500,1000,2000,3000],\n",
    "'max_depth':[3,5,7,10],\n",
    "'colsample_bytree':[0.1,0.3,0.5,1],\n",
    "'subsample':[0.1,0.3,0.5,1]\n",
    "}\n",
    "x_random_cfl_5 = RandomizedSearchCV(x_cfl_5,param_distributions=prams,verbose=0,n_jobs=-1,cv=3,scoring='f1')\n",
    "x_random_cfl_5.fit(X_tr_5,y_train)\n",
    "\n",
    "print(x_random_cfl_5.best_params_)"
   ]
  },
  {
   "cell_type": "code",
   "execution_count": 31,
   "metadata": {
    "id": "05e2f632"
   },
   "outputs": [
    {
     "name": "stdout",
     "output_type": "stream",
     "text": [
      "**LogLoss**\n",
      "The train log loss is: 0.15020022282762266\n",
      "The cross validation log loss is: 0.36048028930365883\n",
      "The test log loss is: 0.36264384456315546\n",
      "--------------------------------------------------\n",
      "**Accuracy**\n",
      "The train Accuracy is: 0.9999903778613835\n",
      "The cross validation Accuracy is: 0.8634067488381492\n",
      "The test Accuracy is: 0.8623448059091623\n",
      "--------------------------------------------------\n",
      "**F1 Score**\n",
      "The train F1 score is: 0.999993136534911\n",
      "The cross validation F1 score is: 0.9059456451164085\n",
      "The test F1 score is: 0.9051717604772268\n",
      "--------------------------------------------------\n",
      "**AUC**\n",
      "The train AUC is: 0.9999839114486131\n",
      "The cross validation AUC is: 0.8129559343073638\n",
      "The test AUC is: 0.8120036461284016\n",
      "--------------------------------------------------\n"
     ]
    },
    {
     "data": {
      "image/png": "[encoded data removed]",
      "text/plain": [
       "<Figure size 640x480 with 1 Axes>"
      ]
     },
     "metadata": {},
     "output_type": "display_data"
    },
    {
     "name": "stdout",
     "output_type": "stream",
     "text": [
      "Number of misclassified points  13.765519409083765\n"
     ]
    },
    {
     "data": {
      "image/png": "[encoded data removed]",
      "text/plain": [
       "<Figure size 2000x400 with 6 Axes>"
      ]
     },
     "metadata": {},
     "output_type": "display_data"
    }
   ],
   "source": [
    "eval_set = [(X_tr_5, y_train), (X_cv_5, y_cv)]\n",
    "\n",
    "x_cfl_5=XGBClassifier(n_estimators=3000,subsample=0.5,max_depth=10,learning_rate=0.2,colsample_bytree=0.1,nthread=-1,objective='binary:logistic', random_state=0)\n",
    "x_cfl_5.fit(X_tr_5,y_train,eval_set=eval_set,eval_metric='logloss',verbose=0,early_stopping_rounds=30)\n",
    "x_sig_clf_5 = CalibratedClassifierCV(x_cfl_5, method=\"sigmoid\")\n",
    "x_sig_clf_5.fit(X_tr_5, y_train)\n",
    "\n",
    "model_metrics(x_sig_clf_5,X_tr_5,X_te_5,X_cv_5)\n",
    "\n",
    "results = x_cfl_5.evals_result()\n",
    "epochs = len(results['validation_0']['logloss'])\n",
    "x_axis = range(0, epochs)\n",
    "# plot log loss\n",
    "fig, ax = plt.subplots()\n",
    "ax.plot(x_axis, results['validation_0']['logloss'], label='Train')\n",
    "ax.plot(x_axis, results['validation_1']['logloss'], label='CV')\n",
    "ax.legend()\n",
    "plt.ylabel('Log Loss')\n",
    "plt.title('XGBoost Log Loss')\n",
    "plt.show()\n",
    "\n",
    "\n",
    "plot_confusion_matrix(y_test, x_sig_clf_5.predict(X_te_5))"
   ]
  },
  {
   "cell_type": "code",
   "execution_count": 32,
   "metadata": {
    "id": "ac305c93"
   },
   "outputs": [
    {
     "name": "stdout",
     "output_type": "stream",
     "text": [
      "Ngram TFIDF Model saved\n"
     ]
    },
    {
     "data": {
      "text/plain": [
       "['../BDS_project/ngram_tfidf_model.pkl']"
      ]
     },
     "execution_count": 32,
     "metadata": {},
     "output_type": "execute_result"
    }
   ],
   "source": [
    "print('Ngram TFIDF Model saved')\n",
    "joblib.dump(x_sig_clf_5,'../BDS_project/ngram_tfidf_model.pkl')"
   ]
  },
  {
   "cell_type": "markdown",
   "metadata": {
    "id": "8abf6f9f"
   },
   "source": [
    "<b>Observations:</b>\n",
    "- The n-grams (both Bow and TF-IDF) has also performed good with only considerable features. Hence considering unigram and n-gram(2,3,4) feature set models for both BoW and TF-IDF."
   ]
  },
  {
   "cell_type": "markdown",
   "metadata": {
    "id": "316194e6"
   },
   "source": [
    "#### Building the Word2Vec embeddings for the words in our dataset using Gensim"
   ]
  },
  {
   "cell_type": "code",
   "execution_count": 18,
   "metadata": {
    "id": "4fd5a306"
   },
   "outputs": [],
   "source": [
    "from gensim.models import Word2Vec"
   ]
  },
  {
   "cell_type": "code",
   "execution_count": 19,
   "metadata": {
    "id": "c05a2e3f"
   },
   "outputs": [
    {
     "name": "stderr",
     "output_type": "stream",
     "text": [
      "100%|███████████████████████████████████████████████████████████████████████| 212098/212098 [00:02<00:00, 98813.31it/s]\n"
     ]
    }
   ],
   "source": [
    "sentences = []\n",
    "for r in tqdm(data['cleaned_review']):\n",
    "    sentences.append(r.split())"
   ]
  },
  {
   "cell_type": "code",
   "execution_count": 20,
   "metadata": {
    "id": "9769a925"
   },
   "outputs": [
    {
     "name": "stdout",
     "output_type": "stream",
     "text": [
      "Word2Vec<vocab=34666, vector_size=300, alpha=0.025>\n"
     ]
    }
   ],
   "source": [
    "# https://machinelearningmastery.com/develop-word-embeddings-python-gensim/\n",
    "# https://radimrehurek.com/gensim/models/word2vec.html\n",
    "\n",
    "model = Word2Vec(sentences,vector_size=300,workers=12,min_count=1)\n",
    "print(model)\n",
    "model.save('word2vec.bin')\n"
   ]
  },
  {
   "cell_type": "code",
   "execution_count": 21,
   "metadata": {
    "id": "eb9034ee"
   },
   "outputs": [],
   "source": [
    "model = Word2Vec.load('word2vec.bin')"
   ]
  },
  {
   "cell_type": "code",
   "execution_count": 22,
   "metadata": {
    "id": "d8a437ca"
   },
   "outputs": [],
   "source": [
    "def create_w2v(df,feature):\n",
    "    '''This function creates the w2v embeddings for the cleaned reviews passed'''\n",
    "\n",
    "    w2v_vector =[]\n",
    "    for review in df[feature]:\n",
    "        vector = np.zeros(300)\n",
    "\n",
    "        for word in review.split():\n",
    "            if word in model.wv.key_to_index:\n",
    "                vector += model.wv[word]\n",
    "\n",
    "        w2v_vector.append(vector)\n",
    "    w2v_vector = np.array(w2v_vector)\n",
    "    return w2v_vector\n",
    "\n"
   ]
  },
  {
   "cell_type": "code",
   "execution_count": 23,
   "metadata": {
    "id": "1a80d3d4"
   },
   "outputs": [
    {
     "name": "stdout",
     "output_type": "stream",
     "text": [
      "After word embeddings\n",
      "Train data size is: (103927, 300)\n",
      "Test data size is: (63630, 300)\n",
      "CV data size is: (44541, 300)\n"
     ]
    }
   ],
   "source": [
    "X_train_review_w2v = create_w2v(X_train,'cleaned_review')\n",
    "X_test_review_w2v = create_w2v(X_test,'cleaned_review')\n",
    "X_cv_review_w2v = create_w2v(X_cv,'cleaned_review')\n",
    "\n",
    "print('After word embeddings')\n",
    "print('Train data size is:',X_train_review_w2v.shape)\n",
    "print('Test data size is:',X_test_review_w2v.shape)\n",
    "print('CV data size is:',X_cv_review_w2v.shape)"
   ]
  },
  {
   "cell_type": "markdown",
   "metadata": {
    "id": "a129eac3"
   },
   "source": [
    "### Set -6 Extracted Features + Sentiment Scores + Reviews Word2Vec vectors"
   ]
  },
  {
   "cell_type": "code",
   "execution_count": 24,
   "metadata": {
    "id": "ecf20b61"
   },
   "outputs": [
    {
     "name": "stdout",
     "output_type": "stream",
     "text": [
      "Final Data matrix\n",
      "(103927, 331) (103927,)\n",
      "(63630, 331) (63630,)\n",
      "(44541, 331) (44541,)\n"
     ]
    }
   ],
   "source": [
    "#concatenating all encoded features for set 6\n",
    "\n",
    "from scipy.sparse import hstack\n",
    "X_tr_6 = np.concatenate((X_train_num_2,X_train_sent_score,X_train_condition,X_train_year,X_train_review_w2v),axis=1)\n",
    "\n",
    "X_te_6 = np.concatenate((X_test_num_2,X_test_sent_score,X_test_condition,X_test_year,X_test_review_w2v),axis=1)\n",
    "\n",
    "X_cv_6 = np.concatenate((X_cv_num_2,X_cv_sent_score,X_cv_condition,X_cv_year,X_cv_review_w2v),axis=1)\n",
    "\n",
    "print(\"Final Data matrix\")\n",
    "print(X_tr_6.shape, y_train.shape)\n",
    "print(X_te_6.shape, y_test.shape)\n",
    "print(X_cv_6.shape, y_cv.shape)\n",
    "\n"
   ]
  },
  {
   "cell_type": "markdown",
   "metadata": {
    "id": "ba409651"
   },
   "source": [
    "#### XGB Classifier on Set 3 Features"
   ]
  },
  {
   "cell_type": "markdown",
   "metadata": {
    "id": "b0204382"
   },
   "source": [
    "#### Hyperparameter Tuning for XGB Classifier  "
   ]
  },
  {
   "cell_type": "code",
   "execution_count": null,
   "metadata": {
    "id": "3ba8a0f7"
   },
   "outputs": [],
   "source": [
    "x_cfl_6 = XGBClassifier()\n",
    "prams={\n",
    "'learning_rate':[0.01,0.03,0.05,0.1,0.15,0.2],\n",
    "'n_estimators':[100,500,1000,2000,3000],\n",
    "'max_depth':[3,5,7,10],\n",
    "'colsample_bytree':[0.1,0.3,0.5,1],\n",
    "'subsample':[0.1,0.3,0.5,1]\n",
    "}\n",
    "x_random_cfl_6 = RandomizedSearchCV(x_cfl_6,param_distributions=prams,verbose=0,n_jobs=-1,cv=3,scoring='f1')\n",
    "x_random_cfl_6.fit(X_tr_6,y_train)\n",
    "\n",
    "print(x_random_cfl_6.best_params_)"
   ]
  },
  {
   "cell_type": "markdown",
   "metadata": {
    "id": "511c904c"
   },
   "source": [
    "#### Training the XGB Classifier with best parameters"
   ]
  },
  {
   "cell_type": "code",
   "execution_count": 25,
   "metadata": {
    "id": "4d3efd7f"
   },
   "outputs": [
    {
     "name": "stdout",
     "output_type": "stream",
     "text": [
      "**LogLoss**\n",
      "The train log loss is: 0.09455942942651578\n",
      "The cross validation log loss is: 0.2832827693278789\n",
      "The test log loss is: 0.28947682954405457\n",
      "--------------------------------------------------\n",
      "**Accuracy**\n",
      "The train Accuracy is: 0.9999903778613835\n",
      "The cross validation Accuracy is: 0.898947037560899\n",
      "The test Accuracy is: 0.8952380952380953\n",
      "--------------------------------------------------\n",
      "**F1 Score**\n",
      "The train F1 score is: 0.999993136534911\n",
      "The cross validation F1 score is: 0.9295320401421572\n",
      "The test F1 score is: 0.9270087379278628\n",
      "--------------------------------------------------\n",
      "**AUC**\n",
      "The train AUC is: 0.9999839114486131\n",
      "The cross validation AUC is: 0.8640948049644688\n",
      "The test AUC is: 0.8590784360291794\n",
      "--------------------------------------------------\n"
     ]
    },
    {
     "data": {
      "image/png": "[encoded data removed]",
      "text/plain": [
       "<Figure size 640x480 with 1 Axes>"
      ]
     },
     "metadata": {},
     "output_type": "display_data"
    }
   ],
   "source": [
    "eval_set = [(X_tr_6, y_train), (X_cv_6, y_cv)]\n",
    "\n",
    "x_cfl_6=XGBClassifier(n_estimators=3000,subsample=1,max_depth=7,learning_rate=0.05,colsample_bytree=1,nthread=-1,objective='binary:logistic', random_state=0)\n",
    "x_cfl_6.fit(X_tr_6,y_train,eval_set=eval_set,eval_metric='logloss',verbose=0,early_stopping_rounds=30)\n",
    "x_sig_clf_6 = CalibratedClassifierCV(x_cfl_6, method=\"sigmoid\")\n",
    "x_sig_clf_6.fit(X_tr_6, y_train)\n",
    "\n",
    "model_metrics(x_sig_clf_6,X_tr_6,X_te_6,X_cv_6)\n",
    "\n",
    "results = x_cfl_6.evals_result()\n",
    "epochs = len(results['validation_0']['logloss'])\n",
    "x_axis = range(0, epochs)\n",
    "# plot log loss\n",
    "fig, ax = plt.subplots()\n",
    "ax.plot(x_axis, results['validation_0']['logloss'], label='Train')\n",
    "ax.plot(x_axis, results['validation_1']['logloss'], label='CV')\n",
    "ax.legend()\n",
    "plt.ylabel('Log Loss')\n",
    "plt.title('XGBoost Log Loss')\n",
    "plt.show()\n",
    "\n",
    "\n",
    "#plot_confusion_matrix(y_test, x_sig_clf_6.predict(X_te_6))"
   ]
  },
  {
   "cell_type": "code",
   "execution_count": 26,
   "metadata": {
    "id": "156125ca"
   },
   "outputs": [
    {
     "name": "stdout",
     "output_type": "stream",
     "text": [
      "W2V Model saved\n"
     ]
    },
    {
     "data": {
      "text/plain": [
       "['../BDS_project/W2V Model.pkl']"
      ]
     },
     "execution_count": 26,
     "metadata": {},
     "output_type": "execute_result"
    }
   ],
   "source": [
    "import joblib\n",
    "print('W2V Model saved')\n",
    "joblib.dump(x_sig_clf_6,'../BDS_project/W2V Model.pkl')"
   ]
  },
  {
   "cell_type": "markdown",
   "metadata": {
    "id": "38230d94"
   },
   "source": [
    "The W2v embeddings features are also useful. The model has a F1 score of 0.928"
   ]
  },
  {
   "cell_type": "code",
   "execution_count": null,
   "metadata": {
    "id": "b2f84945"
   },
   "outputs": [],
   "source": []
  },
  {
   "cell_type": "markdown",
   "metadata": {
    "id": "aa08ebe0"
   },
   "source": [
    "### Model Evaluation Metrics summary"
   ]
  },
  {
   "cell_type": "code",
   "execution_count": 17,
   "metadata": {
    "id": "7012e51a"
   },
   "outputs": [
    {
     "name": "stdout",
     "output_type": "stream",
     "text": [
      "Requirement already satisfied: prettytable in c:\\users\\ryans\\anaconda3\\lib\\site-packages (3.10.0)\n",
      "Requirement already satisfied: wcwidth in c:\\users\\ryans\\anaconda3\\lib\\site-packages (from prettytable) (0.2.5)\n"
     ]
    }
   ],
   "source": [
    "!pip install prettytable\n",
    "from prettytable import PrettyTable"
   ]
  },
  {
   "cell_type": "code",
   "execution_count": 4,
   "metadata": {
    "id": "8fbcbe4e"
   },
   "outputs": [],
   "source": [
    "model_1 = joblib.load('../BDS_project/extracted_model.pkl')\n",
    "model_2 = joblib.load('../BDS_project/Bow_model.pkl')\n",
    "model_3 = joblib.load('../BDS_project/tfidf_model.pkl')\n",
    "model_4 = joblib.load('../BDS_project/ngram_bow_model.pkl')\n",
    "model_5 = joblib.load('../BDS_project/ngram_tfidf_model.pkl')\n",
    "model_6 = joblib.load('../BDS_project/W2V Model.pkl')"
   ]
  },
  {
   "cell_type": "code",
   "execution_count": 5,
   "metadata": {},
   "outputs": [
    {
     "ename": "NameError",
     "evalue": "name 'X_train' is not defined",
     "output_type": "error",
     "traceback": [
      "\u001b[1;31m---------------------------------------------------------------------------\u001b[0m",
      "\u001b[1;31mNameError\u001b[0m                                 Traceback (most recent call last)",
      "Cell \u001b[1;32mIn[5], line 3\u001b[0m\n\u001b[0;32m      1\u001b[0m vect_bow_1 \u001b[38;5;241m=\u001b[39m joblib\u001b[38;5;241m.\u001b[39mload(\u001b[38;5;124m'\u001b[39m\u001b[38;5;124m../BDS_project/vectorizer_bow.pkl\u001b[39m\u001b[38;5;124m'\u001b[39m)\n\u001b[1;32m----> 3\u001b[0m X_train_review_bow_1 \u001b[38;5;241m=\u001b[39m vect_bow_1\u001b[38;5;241m.\u001b[39mtransform(X_train[\u001b[38;5;124m'\u001b[39m\u001b[38;5;124mcleaned_review\u001b[39m\u001b[38;5;124m'\u001b[39m]\u001b[38;5;241m.\u001b[39mvalues)\n\u001b[0;32m      4\u001b[0m X_test_review_bow_1 \u001b[38;5;241m=\u001b[39m vect_bow_1\u001b[38;5;241m.\u001b[39mtransform(X_test[\u001b[38;5;124m'\u001b[39m\u001b[38;5;124mcleaned_review\u001b[39m\u001b[38;5;124m'\u001b[39m]\u001b[38;5;241m.\u001b[39mvalues)\n\u001b[0;32m      5\u001b[0m X_cv_review_bow_1 \u001b[38;5;241m=\u001b[39m vect_bow_1\u001b[38;5;241m.\u001b[39mtransform(X_cv[\u001b[38;5;124m'\u001b[39m\u001b[38;5;124mcleaned_review\u001b[39m\u001b[38;5;124m'\u001b[39m]\u001b[38;5;241m.\u001b[39mvalues)\n",
      "\u001b[1;31mNameError\u001b[0m: name 'X_train' is not defined"
     ]
    }
   ],
   "source": [
    "vect_bow_1 = joblib.load('../BDS_project/vectorizer_bow.pkl')\n",
    "\n",
    "X_train_review_bow_1 = vect_bow_1.transform(X_train['cleaned_review'].values)\n",
    "X_test_review_bow_1 = vect_bow_1.transform(X_test['cleaned_review'].values)\n",
    "X_cv_review_bow_1 = vect_bow_1.transform(X_cv['cleaned_review'].values)\n",
    "\n",
    "print('After Vectorization')\n",
    "print('Train data shape:',X_train_review_bow_1.shape)\n",
    "print('Test data shape:',X_test_review_bow_1.shape)\n",
    "print('CV data shape:',X_cv_review_bow_1.shape)\n",
    "\n",
    "from sklearn.preprocessing import LabelEncoder\n",
    "\n",
    "lab_enc_cond = LabelEncoder()\n",
    "\n",
    "lab_enc_cond.fit(X['condition'].values)\n",
    "\n",
    "X_train_condition = lab_enc_cond.transform(X_train['condition'].values).reshape(-1,1)\n",
    "X_test_condition = lab_enc_cond.transform(X_test['condition'].values).reshape(-1,1)\n",
    "X_cv_condition = lab_enc_cond.transform(X_cv['condition'].values).reshape(-1,1)\n",
    "\n",
    "from scipy.sparse import hstack\n",
    "X_tr_2 = hstack((X_train_num_2,X_train_sent_score,X_train_condition,X_train_year,X_train_review_bow_1)).tocsr()\n",
    "\n",
    "X_te_2 = hstack((X_test_num_2,X_test_sent_score,X_test_condition,X_test_year,X_test_review_bow_1)).tocsr()\n",
    "\n",
    "X_cv_2 = hstack((X_cv_num_2,X_cv_sent_score,X_cv_condition,X_cv_year,X_cv_review_bow_1)).tocsr()\n",
    "\n",
    "print(\"Final Data matrix\")\n",
    "print(X_tr_2.shape, y_train.shape)\n",
    "print(X_te_2.shape, y_test.shape)\n",
    "print(X_cv_2.shape, y_cv.shape)"
   ]
  },
  {
   "cell_type": "code",
   "execution_count": 23,
   "metadata": {},
   "outputs": [
    {
     "name": "stdout",
     "output_type": "stream",
     "text": [
      "After Vectorization\n",
      "Train data shape: (103927, 7309)\n",
      "Test data shape: (63630, 7309)\n",
      "CV data shape: (44541, 7309)\n",
      "Final Data matrix\n",
      "(103927, 7340) (103927,)\n",
      "(63630, 7340) (63630,)\n",
      "(44541, 7340) (44541,)\n"
     ]
    }
   ],
   "source": [
    "#concatenating all encoded features for set 3\n",
    "\n",
    "vect_tfidf_1 = joblib.load('../BDS_project/vectorizer_tfidf.pkl')\n",
    "\n",
    "\n",
    "X_train_review_tfidf_1 = vect_tfidf_1.transform(X_train['cleaned_review'].values)\n",
    "X_test_review_tfidf_1 = vect_tfidf_1.transform(X_test['cleaned_review'].values)\n",
    "X_cv_review_tfidf_1 = vect_tfidf_1.transform(X_cv['cleaned_review'].values)\n",
    "\n",
    "print('After Vectorization')\n",
    "print('Train data shape:',X_train_review_tfidf_1.shape)\n",
    "print('Test data shape:',X_test_review_tfidf_1.shape)\n",
    "print('CV data shape:',X_cv_review_tfidf_1.shape)\n",
    "\n",
    "from scipy.sparse import hstack\n",
    "X_tr_3 = hstack((X_train_num_2,X_train_sent_score,X_train_condition,X_train_year,X_train_review_tfidf_1)).tocsr()\n",
    "\n",
    "X_te_3 = hstack((X_test_num_2,X_test_sent_score,X_test_condition,X_test_year,X_test_review_tfidf_1)).tocsr()\n",
    "\n",
    "X_cv_3 = hstack((X_cv_num_2,X_cv_sent_score,X_cv_condition,X_cv_year,X_cv_review_tfidf_1)).tocsr()\n",
    "\n",
    "print(\"Final Data matrix\")\n",
    "print(X_tr_3.shape, y_train.shape)\n",
    "print(X_te_3.shape, y_test.shape)\n",
    "print(X_cv_3.shape, y_cv.shape)\n",
    "\n"
   ]
  },
  {
   "cell_type": "code",
   "execution_count": 24,
   "metadata": {},
   "outputs": [
    {
     "name": "stdout",
     "output_type": "stream",
     "text": [
      "After Vectorization\n",
      "Train data shape: (103927, 2283)\n",
      "Test data shape: (63630, 2283)\n",
      "CV data shape: (44541, 2283)\n",
      "Final Data matrix\n",
      "(103927, 2314) (103927,)\n",
      "(63630, 2314) (63630,)\n",
      "(44541, 2314) (44541,)\n"
     ]
    }
   ],
   "source": [
    "#concatenating all encoded features for set 4\n",
    "\n",
    "vec_bow = joblib.load('../BDS_project/ngram_vec_bow.pkl')\n",
    "\n",
    "X_train_review_bow_ngram = vec_bow.transform(X_train['cleaned_review'].values)\n",
    "X_test_review_bow_ngram = vec_bow.transform(X_test['cleaned_review'].values)\n",
    "X_cv_review_bow_ngram = vec_bow.transform(X_cv['cleaned_review'].values)\n",
    "\n",
    "\n",
    "print('After Vectorization')\n",
    "print('Train data shape:',X_train_review_bow_ngram.shape)\n",
    "print('Test data shape:',X_test_review_bow_ngram.shape)\n",
    "print('CV data shape:',X_cv_review_bow_ngram.shape)\n",
    "\n",
    "from scipy.sparse import hstack\n",
    "X_tr_4 = hstack((X_train_num_2,X_train_sent_score,X_train_condition,X_train_year,X_train_review_bow_ngram)).tocsr()\n",
    "\n",
    "X_te_4 = hstack((X_test_num_2,X_test_sent_score,X_test_condition,X_test_year,X_test_review_bow_ngram)).tocsr()\n",
    "\n",
    "X_cv_4 = hstack((X_cv_num_2,X_cv_sent_score,X_cv_condition,X_cv_year,X_cv_review_bow_ngram)).tocsr()\n",
    "\n",
    "print(\"Final Data matrix\")\n",
    "print(X_tr_4.shape, y_train.shape)\n",
    "print(X_te_4.shape, y_test.shape)\n",
    "print(X_cv_4.shape, y_cv.shape)"
   ]
  },
  {
   "cell_type": "code",
   "execution_count": 25,
   "metadata": {},
   "outputs": [
    {
     "name": "stdout",
     "output_type": "stream",
     "text": [
      "After Vectorization\n",
      "Train data shape: (103927, 2283)\n",
      "Test data shape: (63630, 2283)\n",
      "CV data shape: (44541, 2283)\n",
      "Final Data matrix\n",
      "(103927, 2314) (103927,)\n",
      "(63630, 2314) (63630,)\n",
      "(44541, 2314) (44541,)\n"
     ]
    }
   ],
   "source": [
    "#concatenating all encoded features for set 5\n",
    "vec_tfidf = joblib.load('../BDS_project/datangram_vec_tfidf.pkl')\n",
    "\n",
    "X_train_review_tfidf_ngram = vec_tfidf.transform(X_train['cleaned_review'].values)\n",
    "X_test_review_tfidf_ngram = vec_tfidf.transform(X_test['cleaned_review'].values)\n",
    "X_cv_review_tfidf_ngram = vec_tfidf.transform(X_cv['cleaned_review'].values)\n",
    "\n",
    "\n",
    "print('After Vectorization')\n",
    "print('Train data shape:',X_train_review_tfidf_ngram.shape)\n",
    "print('Test data shape:',X_test_review_tfidf_ngram.shape)\n",
    "print('CV data shape:',X_cv_review_tfidf_ngram.shape)\n",
    "\n",
    "from scipy.sparse import hstack\n",
    "X_tr_5 = hstack((X_train_num_2,X_train_sent_score,X_train_condition,X_train_year,X_train_review_tfidf_ngram)).tocsr()\n",
    "\n",
    "X_te_5 = hstack((X_test_num_2,X_test_sent_score,X_test_condition,X_test_year,X_test_review_tfidf_ngram)).tocsr()\n",
    "\n",
    "X_cv_5 = hstack((X_cv_num_2,X_cv_sent_score,X_cv_condition,X_cv_year,X_cv_review_tfidf_ngram)).tocsr()\n",
    "\n",
    "print(\"Final Data matrix\")\n",
    "print(X_tr_5.shape, y_train.shape)\n",
    "print(X_te_5.shape, y_test.shape)\n",
    "print(X_cv_5.shape, y_cv.shape)"
   ]
  },
  {
   "cell_type": "code",
   "execution_count": 26,
   "metadata": {},
   "outputs": [
    {
     "name": "stderr",
     "output_type": "stream",
     "text": [
      "100%|███████████████████████████████████████████████████████████████████████| 212098/212098 [00:02<00:00, 84032.65it/s]\n"
     ]
    },
    {
     "name": "stdout",
     "output_type": "stream",
     "text": [
      "Word2Vec<vocab=34666, vector_size=300, alpha=0.025>\n",
      "After word embeddings\n",
      "Train data size is: (103927, 300)\n",
      "Test data size is: (63630, 300)\n",
      "CV data size is: (44541, 300)\n",
      "Final Data matrix\n",
      "(103927, 331) (103927,)\n",
      "(63630, 331) (63630,)\n",
      "(44541, 331) (44541,)\n"
     ]
    }
   ],
   "source": [
    "from gensim.models import Word2Vec\n",
    "\n",
    "sentences = []\n",
    "for r in tqdm(data['cleaned_review']):\n",
    "    sentences.append(r.split())\n",
    "\n",
    "model = Word2Vec(sentences,vector_size=300,workers=12,min_count=1)\n",
    "print(model)\n",
    "model.save('word2vec.bin')\n",
    "model = Word2Vec.load('word2vec.bin')\n",
    "\n",
    "def create_w2v(df,feature):\n",
    "    '''This function creates the w2v embeddings for the cleaned reviews passed'''\n",
    "\n",
    "    w2v_vector =[]\n",
    "    for review in df[feature]:\n",
    "        vector = np.zeros(300)\n",
    "\n",
    "        for word in review.split():\n",
    "            if word in model.wv.key_to_index:\n",
    "                vector += model.wv[word]\n",
    "\n",
    "        w2v_vector.append(vector)\n",
    "    w2v_vector = np.array(w2v_vector)\n",
    "    return w2v_vector\n",
    "\n",
    "X_train_review_w2v = create_w2v(X_train,'cleaned_review')\n",
    "X_test_review_w2v = create_w2v(X_test,'cleaned_review')\n",
    "X_cv_review_w2v = create_w2v(X_cv,'cleaned_review')\n",
    "\n",
    "print('After word embeddings')\n",
    "print('Train data size is:',X_train_review_w2v.shape)\n",
    "print('Test data size is:',X_test_review_w2v.shape)\n",
    "print('CV data size is:',X_cv_review_w2v.shape)\n",
    "\n",
    "from scipy.sparse import hstack\n",
    "X_tr_6 = np.concatenate((X_train_num_2,X_train_sent_score,X_train_condition,X_train_year,X_train_review_w2v),axis=1)\n",
    "\n",
    "X_te_6 = np.concatenate((X_test_num_2,X_test_sent_score,X_test_condition,X_test_year,X_test_review_w2v),axis=1)\n",
    "\n",
    "X_cv_6 = np.concatenate((X_cv_num_2,X_cv_sent_score,X_cv_condition,X_cv_year,X_cv_review_w2v),axis=1)\n",
    "\n",
    "print(\"Final Data matrix\")\n",
    "print(X_tr_6.shape, y_train.shape)\n",
    "print(X_te_6.shape, y_test.shape)\n",
    "print(X_cv_6.shape, y_cv.shape)"
   ]
  },
  {
   "cell_type": "code",
   "execution_count": 22,
   "metadata": {
    "id": "7737a9be"
   },
   "outputs": [
    {
     "ename": "NameError",
     "evalue": "name 'X_tr_3' is not defined",
     "output_type": "error",
     "traceback": [
      "\u001b[1;31m---------------------------------------------------------------------------\u001b[0m",
      "\u001b[1;31mNameError\u001b[0m                                 Traceback (most recent call last)",
      "Cell \u001b[1;32mIn[22], line 4\u001b[0m\n\u001b[0;32m      2\u001b[0m t\u001b[38;5;241m.\u001b[39mfield_names \u001b[38;5;241m=\u001b[39m [\u001b[38;5;124m'\u001b[39m\u001b[38;5;124mModels\u001b[39m\u001b[38;5;124m'\u001b[39m,\u001b[38;5;124m'\u001b[39m\u001b[38;5;124mF1 Score(Train Data)\u001b[39m\u001b[38;5;124m'\u001b[39m,\u001b[38;5;124m'\u001b[39m\u001b[38;5;124mF1 Score(Test Data)\u001b[39m\u001b[38;5;124m'\u001b[39m]\n\u001b[0;32m      3\u001b[0m t\u001b[38;5;241m.\u001b[39madd_row([\u001b[38;5;124m'\u001b[39m\u001b[38;5;124mXGBOOST+BoW(1gram)\u001b[39m\u001b[38;5;124m'\u001b[39m,f1_score(y_train,model_2\u001b[38;5;241m.\u001b[39mpredict(X_tr_2)),f1_score(y_test,model_2\u001b[38;5;241m.\u001b[39mpredict(X_te_2))])\n\u001b[1;32m----> 4\u001b[0m t\u001b[38;5;241m.\u001b[39madd_row([\u001b[38;5;124m'\u001b[39m\u001b[38;5;124mXGBOOST+TF-IDF(1gram)\u001b[39m\u001b[38;5;124m'\u001b[39m,f1_score(y_train,model_3\u001b[38;5;241m.\u001b[39mpredict(X_tr_3)),f1_score(y_test,model_3\u001b[38;5;241m.\u001b[39mpredict(X_te_3))])\n\u001b[0;32m      5\u001b[0m t\u001b[38;5;241m.\u001b[39madd_row([\u001b[38;5;124m'\u001b[39m\u001b[38;5;124mXGBOOST+BoW(n-grams)\u001b[39m\u001b[38;5;124m'\u001b[39m,f1_score(y_train,model_4\u001b[38;5;241m.\u001b[39mpredict(X_tr_4)),f1_score(y_test,model_4\u001b[38;5;241m.\u001b[39mpredict(X_te_4))])\n\u001b[0;32m      6\u001b[0m t\u001b[38;5;241m.\u001b[39madd_row([\u001b[38;5;124m'\u001b[39m\u001b[38;5;124mXGBOOST+TFIDF(n-gram)\u001b[39m\u001b[38;5;124m'\u001b[39m,f1_score(y_train,model_5\u001b[38;5;241m.\u001b[39mpredict(X_tr_5)),f1_score(y_test,model_5\u001b[38;5;241m.\u001b[39mpredict(X_te_5))])\n",
      "\u001b[1;31mNameError\u001b[0m: name 'X_tr_3' is not defined"
     ]
    }
   ],
   "source": [
    "t = PrettyTable()\n",
    "t.field_names = ['Models','F1 Score(Train Data)','F1 Score(Test Data)']\n",
    "t.add_row(['XGBOOST+BoW(1gram)',f1_score(y_train,model_2.predict(X_tr_2)),f1_score(y_test,model_2.predict(X_te_2))])\n",
    "t.add_row(['XGBOOST+TF-IDF(1gram)',f1_score(y_train,model_3.predict(X_tr_3)),f1_score(y_test,model_3.predict(X_te_3))])\n",
    "t.add_row(['XGBOOST+BoW(n-grams)',f1_score(y_train,model_4.predict(X_tr_4)),f1_score(y_test,model_4.predict(X_te_4))])\n",
    "t.add_row(['XGBOOST+TFIDF(n-gram)',f1_score(y_train,model_5.predict(X_tr_5)),f1_score(y_test,model_5.predict(X_te_5))])\n",
    "t.add_row(['XGBOOST+Word2Vec',f1_score(y_train,model_6.predict(X_tr_6)),f1_score(y_test,model_6.predict(X_te_6))])\n",
    "print(t)"
   ]
  },
  {
   "cell_type": "markdown",
   "metadata": {
    "id": "be1a4240"
   },
   "source": [
    "### Recommendation system"
   ]
  },
  {
   "cell_type": "code",
   "execution_count": 27,
   "metadata": {
    "id": "94484e6d"
   },
   "outputs": [],
   "source": [
    "def userful_count(data,feature):\n",
    "    '''this function takes dataframe and feature as input and normalize the given feature'''\n",
    "\n",
    "    max_value = data[feature].max()\n",
    "    min_value = data[feature].min()\n",
    "    data[feature] = (data[feature] - min_value) / (max_value - min_value)\n",
    "    return data"
   ]
  },
  {
   "cell_type": "code",
   "execution_count": 28,
   "metadata": {
    "id": "b929a2c5"
   },
   "outputs": [
    {
     "data": {
      "text/html": [
       "<div>\n",
       "<style scoped>\n",
       "    .dataframe tbody tr th:only-of-type {\n",
       "        vertical-align: middle;\n",
       "    }\n",
       "\n",
       "    .dataframe tbody tr th {\n",
       "        vertical-align: top;\n",
       "    }\n",
       "\n",
       "    .dataframe thead th {\n",
       "        text-align: right;\n",
       "    }\n",
       "</style>\n",
       "<table border=\"1\" class=\"dataframe\">\n",
       "  <thead>\n",
       "    <tr style=\"text-align: right;\">\n",
       "      <th></th>\n",
       "      <th>drugName</th>\n",
       "      <th>condition</th>\n",
       "      <th>usefulCount</th>\n",
       "      <th>cleaned_review</th>\n",
       "      <th>sentiment_score</th>\n",
       "      <th>sentiment_score_clean</th>\n",
       "      <th>year</th>\n",
       "      <th>word_count</th>\n",
       "      <th>unique_word_count</th>\n",
       "      <th>char_length</th>\n",
       "      <th>...</th>\n",
       "      <th>16</th>\n",
       "      <th>17</th>\n",
       "      <th>18</th>\n",
       "      <th>19</th>\n",
       "      <th>model2</th>\n",
       "      <th>model3</th>\n",
       "      <th>model4</th>\n",
       "      <th>model5</th>\n",
       "      <th>model6</th>\n",
       "      <th>rec_score</th>\n",
       "    </tr>\n",
       "  </thead>\n",
       "  <tbody>\n",
       "    <tr>\n",
       "      <th>133439</th>\n",
       "      <td>coreg</td>\n",
       "      <td>heart failure</td>\n",
       "      <td>0.024787</td>\n",
       "      <td>heart attack june day hospit doctor put coreg ...</td>\n",
       "      <td>0.6808</td>\n",
       "      <td>0.7964</td>\n",
       "      <td>2010</td>\n",
       "      <td>21</td>\n",
       "      <td>19</td>\n",
       "      <td>119</td>\n",
       "      <td>...</td>\n",
       "      <td>0.107113</td>\n",
       "      <td>0.010030</td>\n",
       "      <td>0.012396</td>\n",
       "      <td>0.005568</td>\n",
       "      <td>1</td>\n",
       "      <td>1</td>\n",
       "      <td>1</td>\n",
       "      <td>1</td>\n",
       "      <td>1</td>\n",
       "      <td>0.123935</td>\n",
       "    </tr>\n",
       "    <tr>\n",
       "      <th>136010</th>\n",
       "      <td>rizatriptan</td>\n",
       "      <td>migraine</td>\n",
       "      <td>0.013168</td>\n",
       "      <td>suffer migrain sinc year old maxalt migrain me...</td>\n",
       "      <td>-0.7974</td>\n",
       "      <td>-0.7717</td>\n",
       "      <td>2015</td>\n",
       "      <td>40</td>\n",
       "      <td>30</td>\n",
       "      <td>243</td>\n",
       "      <td>...</td>\n",
       "      <td>0.041635</td>\n",
       "      <td>0.007613</td>\n",
       "      <td>0.009409</td>\n",
       "      <td>0.004227</td>\n",
       "      <td>1</td>\n",
       "      <td>1</td>\n",
       "      <td>1</td>\n",
       "      <td>1</td>\n",
       "      <td>1</td>\n",
       "      <td>0.065840</td>\n",
       "    </tr>\n",
       "    <tr>\n",
       "      <th>63258</th>\n",
       "      <td>restasis</td>\n",
       "      <td>keratoconjunctivitis sicca</td>\n",
       "      <td>0.027885</td>\n",
       "      <td>yes burn get medic actual solut bandaid proble...</td>\n",
       "      <td>-0.1101</td>\n",
       "      <td>-0.7351</td>\n",
       "      <td>2016</td>\n",
       "      <td>68</td>\n",
       "      <td>51</td>\n",
       "      <td>394</td>\n",
       "      <td>...</td>\n",
       "      <td>0.074341</td>\n",
       "      <td>0.006877</td>\n",
       "      <td>0.032660</td>\n",
       "      <td>0.003818</td>\n",
       "      <td>1</td>\n",
       "      <td>1</td>\n",
       "      <td>1</td>\n",
       "      <td>1</td>\n",
       "      <td>1</td>\n",
       "      <td>0.139427</td>\n",
       "    </tr>\n",
       "    <tr>\n",
       "      <th>74865</th>\n",
       "      <td>sertraline</td>\n",
       "      <td>social anxiety disorde</td>\n",
       "      <td>0.009295</td>\n",
       "      <td>think end start take pure desper use horribl f...</td>\n",
       "      <td>-0.9041</td>\n",
       "      <td>-0.0258</td>\n",
       "      <td>2015</td>\n",
       "      <td>70</td>\n",
       "      <td>58</td>\n",
       "      <td>421</td>\n",
       "      <td>...</td>\n",
       "      <td>0.188237</td>\n",
       "      <td>0.006270</td>\n",
       "      <td>0.007750</td>\n",
       "      <td>0.003481</td>\n",
       "      <td>1</td>\n",
       "      <td>1</td>\n",
       "      <td>1</td>\n",
       "      <td>1</td>\n",
       "      <td>1</td>\n",
       "      <td>0.046476</td>\n",
       "    </tr>\n",
       "    <tr>\n",
       "      <th>2537</th>\n",
       "      <td>amphetamine / dextroamphetamine</td>\n",
       "      <td>adhd</td>\n",
       "      <td>0.007746</td>\n",
       "      <td>prescrib mg st day could liter feel releas med...</td>\n",
       "      <td>-0.9639</td>\n",
       "      <td>-0.3887</td>\n",
       "      <td>2017</td>\n",
       "      <td>77</td>\n",
       "      <td>68</td>\n",
       "      <td>470</td>\n",
       "      <td>...</td>\n",
       "      <td>0.122575</td>\n",
       "      <td>0.026021</td>\n",
       "      <td>0.017254</td>\n",
       "      <td>0.013328</td>\n",
       "      <td>0</td>\n",
       "      <td>0</td>\n",
       "      <td>0</td>\n",
       "      <td>0</td>\n",
       "      <td>0</td>\n",
       "      <td>0.000000</td>\n",
       "    </tr>\n",
       "  </tbody>\n",
       "</table>\n",
       "<p>5 rows × 39 columns</p>\n",
       "</div>"
      ],
      "text/plain": [
       "                               drugName                   condition  \\\n",
       "133439                            coreg               heart failure   \n",
       "136010                      rizatriptan                    migraine   \n",
       "63258                          restasis  keratoconjunctivitis sicca   \n",
       "74865                        sertraline      social anxiety disorde   \n",
       "2537    amphetamine / dextroamphetamine                        adhd   \n",
       "\n",
       "        usefulCount                                     cleaned_review  \\\n",
       "133439     0.024787  heart attack june day hospit doctor put coreg ...   \n",
       "136010     0.013168  suffer migrain sinc year old maxalt migrain me...   \n",
       "63258      0.027885  yes burn get medic actual solut bandaid proble...   \n",
       "74865      0.009295  think end start take pure desper use horribl f...   \n",
       "2537       0.007746  prescrib mg st day could liter feel releas med...   \n",
       "\n",
       "        sentiment_score  sentiment_score_clean  year  word_count  \\\n",
       "133439           0.6808                 0.7964  2010          21   \n",
       "136010          -0.7974                -0.7717  2015          40   \n",
       "63258           -0.1101                -0.7351  2016          68   \n",
       "74865           -0.9041                -0.0258  2015          70   \n",
       "2537            -0.9639                -0.3887  2017          77   \n",
       "\n",
       "        unique_word_count  char_length  ...        16        17        18  \\\n",
       "133439                 19          119  ...  0.107113  0.010030  0.012396   \n",
       "136010                 30          243  ...  0.041635  0.007613  0.009409   \n",
       "63258                  51          394  ...  0.074341  0.006877  0.032660   \n",
       "74865                  58          421  ...  0.188237  0.006270  0.007750   \n",
       "2537                   68          470  ...  0.122575  0.026021  0.017254   \n",
       "\n",
       "              19  model2  model3  model4  model5  model6  rec_score  \n",
       "133439  0.005568       1       1       1       1       1   0.123935  \n",
       "136010  0.004227       1       1       1       1       1   0.065840  \n",
       "63258   0.003818       1       1       1       1       1   0.139427  \n",
       "74865   0.003481       1       1       1       1       1   0.046476  \n",
       "2537    0.013328       0       0       0       0       0   0.000000  \n",
       "\n",
       "[5 rows x 39 columns]"
      ]
     },
     "execution_count": 28,
     "metadata": {},
     "output_type": "execute_result"
    }
   ],
   "source": [
    "# Each model predictions are stored as one column and recommendation score is calculated by adding predictions\n",
    "# of 5 models multiplied by its normalized useful count\n",
    "\n",
    "X_test['model2'] = model_2.predict(X_te_2)\n",
    "X_test['model3'] = model_3.predict(X_te_3)\n",
    "X_test['model4'] = model_4.predict(X_te_4)\n",
    "X_test['model5'] = model_5.predict(X_te_5)\n",
    "X_test['model6'] = model_6.predict(X_te_6)\n",
    "\n",
    "X_test =  userful_count(X_test,'usefulCount')\n",
    "#X_test['usefulCount'] = X_test['usefulCount']/X_test['user_size']\n",
    "\n",
    "X_test['rec_score'] = (X_test['model2']+X_test['model3']+X_test['model4']+X_test['model5']+X_test['model6'])*X_test['usefulCount']\n",
    "\n",
    "X_test.head()"
   ]
  },
  {
   "cell_type": "code",
   "execution_count": 29,
   "metadata": {
    "id": "0b18949c"
   },
   "outputs": [],
   "source": [
    "X_test.to_csv('../BDS_project/validation_data.csv',index=False)"
   ]
  },
  {
   "cell_type": "code",
   "execution_count": 30,
   "metadata": {
    "id": "6a0cae43"
   },
   "outputs": [],
   "source": [
    "# grouping the datafrom with respect to condition and drugname.\n",
    "\n",
    "df = X_test.groupby(['condition','drugName']).agg({'rec_score':['sum']})\n"
   ]
  },
  {
   "cell_type": "code",
   "execution_count": null,
   "metadata": {
    "id": "e56b5c3f",
    "scrolled": true
   },
   "outputs": [],
   "source": [
    "df.tail()"
   ]
  },
  {
   "cell_type": "markdown",
   "metadata": {
    "id": "4942e142"
   },
   "source": [
    "<b> Validation for one condition </b>"
   ]
  },
  {
   "cell_type": "code",
   "execution_count": null,
   "metadata": {
    "id": "045afec3"
   },
   "outputs": [],
   "source": [
    "X_test[X_test['condition']=='zen shoulde'].sort_values(by=['rec_score'],ascending=False)"
   ]
  },
  {
   "cell_type": "markdown",
   "metadata": {
    "id": "c003ebe0"
   },
   "source": [
    "<b> Observations:</b>\n",
    "- The drug named 'diclofenac' for condition 'zen shoulde' is present two times. Based on the 5 models prediction and useful count, the recommendation score is calculated. The final score of each drug is calculated by addition of same drugs score for a given condition. Hence for this condition,'diclofenac' this drug is recommended with high score"
   ]
  },
  {
   "cell_type": "markdown",
   "metadata": {
    "id": "fb40559f"
   },
   "source": [
    "- Based on some observations like for condition 'birth control' we have total of 11563 entries for different drugs used. And for each drug for ex- 'etonogestrel(1309)','ethinyl estradiol / norethindrone(909)','levonorgestrel(850)' we have many entries. By aggreating the rec_score using 'mean' the score for these highly used drugs gets lowered due to which the lowest rated/used drugs are recommended after aggregation.\n",
    "- Hence aggregating using 'sum' is used in which scores of same drugs are added together."
   ]
  },
  {
   "cell_type": "code",
   "execution_count": 31,
   "metadata": {
    "id": "4287ba1e"
   },
   "outputs": [],
   "source": [
    "def recommend(condition):\n",
    "    '''this function takes the given condition as input and returns the top drugs based on highest rec scores'''\n",
    "    data = pd.read_csv('../BDS_project/validation_data.csv')\n",
    "    select = data[data['condition']==condition]\n",
    "    drug_count = select['drugName'].nunique()\n",
    "    select['rec_score'] = select['rec_score']/drug_count\n",
    "    group_drug = select.groupby(['drugName']).agg({'rec_score':['sum']})\n",
    "    group_drug = group_drug[('rec_score', 'sum')].sort_values(ascending=False)\n",
    "    drug_score = dict(group_drug)\n",
    "    if len(drug_score)>5:\n",
    "        print('Top 5 Drugs for the condition : {0}'.format(condition.upper()))\n",
    "        for i in list(drug_score.keys())[0:5]:\n",
    "            print('-',i)\n",
    "\n",
    "    else:\n",
    "        print('Top  Drugs for the condition : {0}'.format(condition.upper()))\n",
    "        for i in drug_score.keys():\n",
    "            print('-',i)\n"
   ]
  },
  {
   "cell_type": "code",
   "execution_count": 32,
   "metadata": {
    "id": "Q1IhZMf_onob"
   },
   "outputs": [
    {
     "name": "stdout",
     "output_type": "stream",
     "text": [
      "Top 5 Drugs for the condition : BIRTH CONTROL\n",
      "-> etonogestrel\n",
      "-> ethinyl estradiol / norethindrone\n",
      "-> levonorgestrel\n",
      "-> ethinyl estradiol / norgestimate\n",
      "-> mirena\n"
     ]
    }
   ],
   "source": [
    "recommend('birth control')"
   ]
  },
  {
   "cell_type": "code",
   "execution_count": 33,
   "metadata": {},
   "outputs": [
    {
     "name": "stdout",
     "output_type": "stream",
     "text": [
      "Top 5 Drugs for the condition : HEART FAILURE\n",
      "-> carvedilol\n",
      "-> coreg\n",
      "-> entresto\n",
      "-> digoxin\n",
      "-> imdur\n"
     ]
    }
   ],
   "source": [
    "recommend('heart failure')"
   ]
  },
  {
   "cell_type": "code",
   "execution_count": 34,
   "metadata": {},
   "outputs": [
    {
     "name": "stdout",
     "output_type": "stream",
     "text": [
      "Top  Drugs for the condition : CANCER\n"
     ]
    }
   ],
   "source": [
    "recommend('cancer')"
   ]
  },
  {
   "cell_type": "code",
   "execution_count": 35,
   "metadata": {},
   "outputs": [
    {
     "data": {
      "text/plain": [
       "133439                 heart failure\n",
       "136010                      migraine\n",
       "63258     keratoconjunctivitis sicca\n",
       "74865         social anxiety disorde\n",
       "2537                            adhd\n",
       "                     ...            \n",
       "187076             bowel preparation\n",
       "48234                           pain\n",
       "24553                    weight loss\n",
       "211572                          pain\n",
       "104265                          acne\n",
       "Name: condition, Length: 63630, dtype: object"
      ]
     },
     "execution_count": 35,
     "metadata": {},
     "output_type": "execute_result"
    }
   ],
   "source": [
    "X_test['condition']"
   ]
  },
  {
   "cell_type": "code",
   "execution_count": 36,
   "metadata": {},
   "outputs": [
    {
     "name": "stdout",
     "output_type": "stream",
     "text": [
      "Top 5 Drugs for the condition : INSOMNIA\n",
      "-> trazodone\n",
      "-> zolpidem\n",
      "-> ambien\n",
      "-> quetiapine\n",
      "-> mirtazapine\n"
     ]
    }
   ],
   "source": [
    "recommend('insomnia')"
   ]
  },
  {
   "cell_type": "code",
   "execution_count": 37,
   "metadata": {},
   "outputs": [
    {
     "name": "stdout",
     "output_type": "stream",
     "text": [
      "Top 5 Drugs for the condition : MIGRAINE\n",
      "-> gabapentin\n",
      "-> rizatriptan\n",
      "-> sumatriptan\n",
      "-> imitrex\n",
      "-> eletriptan\n"
     ]
    }
   ],
   "source": [
    "recommend('migraine')"
   ]
  },
  {
   "cell_type": "code",
   "execution_count": null,
   "metadata": {},
   "outputs": [],
   "source": []
  }
 ],
 "metadata": {
  "colab": {
   "authorship_tag": "ABX9TyNKXBlnqZLv3aTgHqc6+taw",
   "provenance": []
  },
  "kernelspec": {
   "display_name": "Python 3 (ipykernel)",
   "language": "python",
   "name": "python3"
  },
  "language_info": {
   "codemirror_mode": {
    "name": "ipython",
    "version": 3
   },
   "file_extension": ".py",
   "mimetype": "text/x-python",
   "name": "python",
   "nbconvert_exporter": "python",
   "pygments_lexer": "ipython3",
   "version": "3.11.7"
  }
 },
 "nbformat": 4,
 "nbformat_minor": 4
}
