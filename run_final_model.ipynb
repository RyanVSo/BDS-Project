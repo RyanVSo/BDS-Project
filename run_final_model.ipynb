{
 "cells": [
  {
   "cell_type": "code",
   "execution_count": 4,
   "id": "3216a55e-2576-44a2-9800-67fda35191ed",
   "metadata": {},
   "outputs": [],
   "source": [
    "import pandas as pd"
   ]
  },
  {
   "cell_type": "code",
   "execution_count": 20,
   "id": "702d7262-6141-4362-900a-084971fbe5d1",
   "metadata": {},
   "outputs": [],
   "source": [
    "def recommendation_system(condition):\n",
    "    # Input: Condition\n",
    "    # Output: Top five unique drugs based on highest recommendation score achieved by five vectorization + XGBoost combinations\n",
    "    \n",
    "    # Read Data\n",
    "    data = pd.read_csv('../BDS_project/validation_data.csv')\n",
    "\n",
    "    # Get recommended drugs from ensemble\n",
    "    recommended_drugs = data[data['condition'] == condition]\n",
    "    drug_count = recommended_drugs['drugName'].nunique()\n",
    "    recommended_drugs.loc[:, 'rec_score'] = recommended_drugs['rec_score'] / drug_count\n",
    "\n",
    "    # Group top drugs\n",
    "    top_drugs = recommended_drugs.groupby(['drugName']).agg({'rec_score':['sum']})\n",
    "    top_drugs = top_drugs[('rec_score', 'sum')].sort_values(ascending = False)\n",
    "\n",
    "    # Get unique drugs\n",
    "    top_drugs = dict(top_drugs)\n",
    "\n",
    "    # Print top drugs\n",
    "    if len(top_drugs)>5:\n",
    "        print('Top drugs for the condition {0}:'.format(condition))\n",
    "        for i in list(top_drugs.keys())[0:5]:\n",
    "            print('-',i)\n",
    "\n",
    "    else:\n",
    "        print('Top  drugs for the condition {0}:'.format(condition))\n",
    "        for i in top_drugs.keys():\n",
    "            print('-',i)"
   ]
  },
  {
   "cell_type": "code",
   "execution_count": 21,
   "id": "b7416246-d0d4-4fb1-9df7-f1988ffaaa61",
   "metadata": {},
   "outputs": [
    {
     "name": "stdout",
     "output_type": "stream",
     "text": [
      "Top drugs for the condition birth control:\n",
      "- etonogestrel\n",
      "- ethinyl estradiol / norethindrone\n",
      "- levonorgestrel\n",
      "- ethinyl estradiol / norgestimate\n",
      "- mirena\n"
     ]
    }
   ],
   "source": [
    "recommendation_system('birth control')"
   ]
  },
  {
   "cell_type": "code",
   "execution_count": 22,
   "id": "96830cdf-56e6-4ee1-95c6-6623c5e15285",
   "metadata": {},
   "outputs": [
    {
     "name": "stdout",
     "output_type": "stream",
     "text": [
      "Top drugs for the condition heart failure:\n",
      "- carvedilol\n",
      "- coreg\n",
      "- entresto\n",
      "- digoxin\n",
      "- imdur\n"
     ]
    }
   ],
   "source": [
    "recommendation_system('heart failure')"
   ]
  }
 ],
 "metadata": {
  "kernelspec": {
   "display_name": "Python 3 (ipykernel)",
   "language": "python",
   "name": "python3"
  },
  "language_info": {
   "codemirror_mode": {
    "name": "ipython",
    "version": 3
   },
   "file_extension": ".py",
   "mimetype": "text/x-python",
   "name": "python",
   "nbconvert_exporter": "python",
   "pygments_lexer": "ipython3",
   "version": "3.11.7"
  }
 },
 "nbformat": 4,
 "nbformat_minor": 5
}
